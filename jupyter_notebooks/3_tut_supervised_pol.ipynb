{
 "metadata": {
  "language_info": {
   "codemirror_mode": {
    "name": "ipython",
    "version": 3
   },
   "file_extension": ".py",
   "mimetype": "text/x-python",
   "name": "python",
   "nbconvert_exporter": "python",
   "pygments_lexer": "ipython3",
   "version": "3.8.8"
  },
  "orig_nbformat": 4,
  "kernelspec": {
   "name": "python3",
   "language": "python",
   "display_name": "Python 3 (ipykernel)"
  },
  "interpreter": {
   "hash": "876800e5f4140bb8c9eb7cb3630e01ad622f0981781552d39a63585948556d04"
  }
 },
 "nbformat": 4,
 "nbformat_minor": 2,
 "cells": [
  {
   "cell_type": "code",
   "execution_count": null,
   "source": [
    "!pip3 install git+https://github.com/Centre-automatique-et-systemes/lena.git gwpy &> /dev/null\n",
    "!pip3 install git+https://github.com/aliutkus/torchinterp1d.git gwpy &> /dev/null"
   ],
   "outputs": [],
   "metadata": {}
  },
  {
   "cell_type": "code",
   "execution_count": 1,
   "source": [
    "import sys ; sys.path.append('../')\n",
    "import torch.optim as optim\n",
    "import seaborn as sb\n",
    "import pytorch_lightning as pl\n",
    "import numpy as np\n",
    "\n",
    "from sklearn.model_selection import train_test_split\n",
    "from pytorch_lightning.loggers import TensorBoardLogger\n",
    "from pytorch_lightning.callbacks import ModelCheckpoint\n",
    "\n",
    "from learn_KKL.luenberger_observer import LuenbergerObserver\n",
    "from learn_KKL.system import VanDerPol\n",
    "from learn_KKL.learner import Learner\n",
    "\n",
    "sb.set_style('whitegrid')"
   ],
   "outputs": [],
   "metadata": {}
  },
  {
   "cell_type": "code",
   "execution_count": 2,
   "source": [
    "# Set up the system\n",
    "system = VanDerPol()"
   ],
   "outputs": [],
   "metadata": {}
  },
  {
   "cell_type": "code",
   "execution_count": 3,
   "source": [
    "# Instantiate the observer\n",
    "observer = LuenbergerObserver(dim_x=2, dim_y=1, method='Supervised')\n",
    "observer.set_dynamics(system)\n",
    "# Generate (x_i, z_i) data by running system backward, then system + observer\n",
    "# forward in time\n",
    "data = observer.generate_data_svl(np.array([[-1, 1.], [-1., 1.]]), 72000)\n",
    "# grid too large leads to underflow when simulating backward in time\n",
    "data, val_data = train_test_split(data, test_size=0.3, shuffle=True)\n",
    "\n",
    "# Train the forward transformation using pytorch-lightning and the learner class\n",
    "# Options for training\n",
    "trainer_options={'max_epochs': 15}\n",
    "optimizer_options = {'weight_decay': 1e-8}\n",
    "scheduler_options = {'mode': 'min', 'factor': 0.1, 'patience': 3,\n",
    "                     'threshold': 1e-4, 'verbose': True}\n",
    "stopper = pl.callbacks.early_stopping.EarlyStopping(\n",
    "    monitor='val_loss', min_delta=5e-4, patience=3, verbose=False, mode='min')\n",
    "# Instantiate learner\n",
    "learner_T = Learner(observer=observer, system=system, training_data=data,\n",
    "                    validation_data=val_data, method='T', batch_size=10,\n",
    "                    lr=5e-4, optimizer=optim.Adam,\n",
    "                    optimizer_options=optimizer_options,\n",
    "                    scheduler=optim.lr_scheduler.ReduceLROnPlateau,\n",
    "                    scheduler_options=scheduler_options)\n",
    "# Define logger and checkpointing\n",
    "logger = TensorBoardLogger(save_dir=learner_T.results_folder + '/tb_logs')\n",
    "checkpoint_callback = ModelCheckpoint(monitor='val_loss')\n",
    "trainer = pl.Trainer(\n",
    "    callbacks=[stopper, checkpoint_callback], **trainer_options, logger=logger,\n",
    "    log_every_n_steps=1, check_val_every_n_epoch=3)"
   ],
   "outputs": [
    {
     "name": "stderr",
     "output_type": "stream",
     "text": [
      "GPU available: False, used: False\n",
      "TPU available: False, using: 0 TPU cores\n",
      "IPU available: False, using: 0 IPUs\n"
     ]
    },
    {
     "name": "stdout",
     "output_type": "stream",
     "text": [
      "Results saved in in /Users/mona/PhD_code/learn_observe_KKL/src/jupyter_notebooks/runs/VanDerPol/Supervised/T/exp_2\n"
     ]
    }
   ],
   "metadata": {}
  },
  {
   "cell_type": "code",
   "execution_count": null,
   "outputs": [
    {
     "name": "stderr",
     "output_type": "stream",
     "text": [
      "\n",
      "  | Name  | Type               | Params\n",
      "---------------------------------------------\n",
      "0 | model | LuenbergerObserver | 26.1 K\n",
      "---------------------------------------------\n",
      "26.1 K    Trainable params\n",
      "0         Non-trainable params\n",
      "26.1 K    Total params\n",
      "0.104     Total estimated model params size (MB)\n"
     ]
    },
    {
     "name": "stdout",
     "output_type": "stream",
     "text": [
      "Logs stored in /Users/mona/PhD_code/learn_observe_KKL/src/jupyter_notebooks/runs/VanDerPol/Supervised/T/exp_2/tb_logs\n"
     ]
    },
    {
     "data": {
      "text/plain": "Validation sanity check: 0it [00:00, ?it/s]",
      "application/vnd.jupyter.widget-view+json": {
       "version_major": 2,
       "version_minor": 0,
       "model_id": "f14644921cb44f87b65d2848623c427c"
      }
     },
     "metadata": {},
     "output_type": "display_data"
    },
    {
     "name": "stderr",
     "output_type": "stream",
     "text": [
      "/Users/mona/PhD_code/learn_observe_KKL/venv/lib/python3.9/site-packages/pytorch_lightning/trainer/data_loading.py:372: UserWarning: Your val_dataloader has `shuffle=True`, it is best practice to turn this off for val/test/predict dataloaders.\n",
      "  rank_zero_warn(\n",
      "/Users/mona/PhD_code/learn_observe_KKL/venv/lib/python3.9/site-packages/pytorch_lightning/trainer/data_loading.py:105: UserWarning: The dataloader, val dataloader 0, does not have many workers which may be a bottleneck. Consider increasing the value of the `num_workers` argument` (try 16 which is the number of cpus on this machine) in the `DataLoader` init to improve performance.\n",
      "  rank_zero_warn(\n",
      "/Users/mona/PhD_code/learn_observe_KKL/venv/lib/python3.9/site-packages/pytorch_lightning/trainer/data_loading.py:105: UserWarning: The dataloader, train dataloader, does not have many workers which may be a bottleneck. Consider increasing the value of the `num_workers` argument` (try 16 which is the number of cpus on this machine) in the `DataLoader` init to improve performance.\n",
      "  rank_zero_warn(\n"
     ]
    },
    {
     "data": {
      "text/plain": "Training: -1it [00:00, ?it/s]",
      "application/vnd.jupyter.widget-view+json": {
       "version_major": 2,
       "version_minor": 0,
       "model_id": "a6a2f3e6490943c9aa595b203d022959"
      }
     },
     "metadata": {},
     "output_type": "display_data"
    }
   ],
   "source": [
    "# To see logger in tensorboard, copy the following output name_of_folder\n",
    "print(f'Logs stored in {learner_T.results_folder}/tb_logs')\n",
    "# which should be similar to jupyter_notebooks/runs/method/exp_0/tb_logs/\n",
    "# Then type this in terminal:\n",
    "# tensorboard --logdir=name_of_folder --port=8080\n",
    "\n",
    "# Train and save results\n",
    "trainer.fit(learner_T)\n",
    "learner_T.save_results(limits=np.array([[-1, 1.], [-1., 1.], [-1., 1.]]),\n",
    "                       nb_trajs=10, tsim=(0, 60), dt=1e-2,\n",
    "                       checkpoint_path=checkpoint_callback.best_model_path)"
   ],
   "metadata": {
    "collapsed": false,
    "pycharm": {
     "name": "#%%\n",
     "is_executing": true
    }
   }
  },
  {
   "cell_type": "code",
   "execution_count": null,
   "source": [
    "# Train the inverse transformation using pytorch-lightning and the learner class\n",
    "# Options for training\n",
    "trainer_options={'max_epochs': 20}\n",
    "optimizer_options = {'weight_decay': 1e-6}\n",
    "scheduler_options = {'mode': 'min', 'factor': 0.1, 'patience': 3,\n",
    "                     'threshold': 1e-4, 'verbose': True}\n",
    "stopper = pl.callbacks.early_stopping.EarlyStopping(\n",
    "    monitor='val_loss', min_delta=5e-4, patience=3, verbose=False, mode='min')\n",
    "# Instantiate learner\n",
    "# learner_T_star = Learner(T??, data, True, \"T_star\")???  # TODO\n",
    "learner_T_star = Learner(observer=observer, system=system, training_data=data,\n",
    "                         validation_data=val_data, method='T_star',\n",
    "                         batch_size=10, lr=1e-3, optimizer=optim.Adam,\n",
    "                         optimizer_options=optimizer_options,\n",
    "                         scheduler=optim.lr_scheduler.ReduceLROnPlateau,\n",
    "                         scheduler_options=scheduler_options)\n",
    "# Define logger and checkpointing\n",
    "logger = TensorBoardLogger(save_dir=learner_T_star.results_folder + '/tb_logs')\n",
    "checkpoint_callback = ModelCheckpoint(monitor='val_loss')\n",
    "trainer = pl.Trainer(\n",
    "    callbacks=[stopper, checkpoint_callback], **trainer_options, logger=logger,\n",
    "    log_every_n_steps=1, check_val_every_n_epoch=3)"
   ],
   "outputs": [],
   "metadata": {
    "pycharm": {
     "is_executing": true
    }
   }
  },
  {
   "cell_type": "code",
   "execution_count": null,
   "outputs": [],
   "source": [
    "# To see logger in tensorboard, copy the following output name_of_folder\n",
    "print(f'Logs stored in {learner_T_star.results_folder}/tb_logs')\n",
    "# which should be similar to jupyter_notebooks/runs/method/exp_0/tb_logs/\n",
    "# Then type this in terminal:\n",
    "# tensorboard --logdir=name_of_folder --port=8080\n",
    "\n",
    "# Train and save results\n",
    "trainer.fit(learner_T_star)\n",
    "learner_T_star.save_results(limits=np.array([[-1, 1.], [-1., 1.]]),\n",
    "                            nb_trajs=10, tsim=(0, 60), dt=1e-2,\n",
    "                            checkpoint_path=checkpoint_callback.best_model_path)"
   ],
   "metadata": {
    "collapsed": false,
    "pycharm": {
     "name": "#%%\n",
     "is_executing": true
    }
   }
  },
  {
   "cell_type": "code",
   "execution_count": null,
   "source": [
    "# Simulate one test trajectory\n",
    "import torch\n",
    "tsim = (0, 60)\n",
    "dt = 1e-2\n",
    "tq, simulation = system.simulate(torch.tensor([[0.5], [0.5]]), tsim, dt)\n",
    "measurement = observer.h(\n",
    "        simulation[:, :observer.dim_x, 0].T).T\n",
    "y = torch.cat((tq.unsqueeze(1), measurement), dim=1)\n",
    "\n",
    "# Predict from measurment\n",
    "estimation = observer.predict(y, tsim, dt)"
   ],
   "outputs": [],
   "metadata": {
    "pycharm": {
     "is_executing": true
    }
   }
  },
  {
   "cell_type": "code",
   "execution_count": null,
   "source": [
    "# Plot ground truth and state estimation\n",
    "import matplotlib.pyplot as plt\n",
    "for i in range(simulation.shape[1]):\n",
    "        plt.plot(tq, simulation[:, i, 0], label=rf'$x_{i+1}$')\n",
    "        plt.plot(tq, estimation[:, i].detach().numpy(),\n",
    "                 label=rf'$\\hat{{x}}_{i+1}$')\n",
    "        plt.legend()\n",
    "        plt.show()"
   ],
   "outputs": [],
   "metadata": {
    "pycharm": {
     "is_executing": true
    }
   }
  },
  {
   "cell_type": "code",
   "execution_count": null,
   "outputs": [],
   "source": [
    "\n",
    "# Extra tests\n",
    "import os\n",
    "from smt.sampling_methods import LHS\n",
    "from learn_KKL.utils import RMSE, StandardScaler\n",
    "num_samples = 50000\n",
    "sampling = LHS(xlimits=np.array([[-2.5, 2.5], [-2.5, 2.5]]))\n",
    "mesh = torch.as_tensor(sampling(num_samples))\n",
    "_, mesh_hat = learner_T_star.model('Autoencoder', mesh)\n",
    "error = RMSE(mesh, mesh_hat, dim=1)\n",
    "for i in range(1, mesh.shape[1]):\n",
    "    name = 'Invertibility_heatmap' + str(i) + '.pdf'\n",
    "    plt.scatter(mesh[:, i - 1], mesh[:, i], cmap='jet',\n",
    "                c=np.log(error.detach().numpy()))\n",
    "    cbar = plt.colorbar()\n",
    "    cbar.set_label('Log estimation error')\n",
    "    plt.title('Log of RMSE between ' + r'$x$' + ' and '\n",
    "              + r'$\\hat{'r'x}$')\n",
    "    plt.xlabel(rf'$x_{i}$')\n",
    "    plt.ylabel(rf'$x_{i + 1}$')\n",
    "    plt.legend()\n",
    "    plt.show()"
   ],
   "metadata": {
    "collapsed": false,
    "pycharm": {
     "name": "#%%\n",
     "is_executing": true
    }
   }
  },
  {
   "cell_type": "code",
   "execution_count": null,
   "outputs": [],
   "source": [
    "\n",
    "# Heatmap of RMSE(x, x_hat) with T_star\n",
    "num_samples = 10000\n",
    "# heatmap_data = learner.model.generate_data_svl(np.array([[-2.5, 2.5], [-2.5, 2.5]]), num_samples)\n",
    "# x = heatmap_data[:, :learner.model.dim_x]\n",
    "# z = heatmap_data[:, learner.model.dim_x:]\n",
    "sampling = LHS(xlimits=np.array([[-2.5, 2.5], [-2.5, 2.5]]))\n",
    "init_x = torch.as_tensor(sampling(num_samples))\n",
    "init = torch.zeros((learner_T_star.model.dim_x + learner_T_star.model.dim_z, num_samples))\n",
    "init[:learner_T_star.model.dim_x, :] = torch.transpose(init_x, 0, 1)\n",
    "print(init.shape, tsim, dt)\n",
    "tsim = (0, 10)\n",
    "dt = 1e-2\n",
    "tq, data_fw = learner_T_star.model.simulate_system(init, tsim, dt)\n",
    "heatmap_data = torch.transpose(data_fw[-1, :, :], 0, 1)\n",
    "print(data_fw.shape, heatmap_data.shape)\n",
    "x = heatmap_data[:, :learner_T_star.model.dim_x]\n",
    "z = heatmap_data[:, learner_T_star.model.dim_x:]\n",
    "x_hat = learner_T_star.model('T_star', z)\n",
    "error = RMSE(x, x_hat, dim=1)\n",
    "print(x.shape, error.shape)\n",
    "for i in range(1, x.shape[1]):\n",
    "    # https://stackoverflow.com/questions/37822925/how-to-smooth-by-interpolation-when-using-pcolormesh\n",
    "    name = 'RMSE_heatmap' + str(i) + '.pdf'\n",
    "    plt.scatter(x[:, i - 1], x[:, i], cmap='jet',\n",
    "                c=np.log(error.detach().numpy()))\n",
    "    cbar = plt.colorbar()\n",
    "    cbar.set_label('Log estimation error')\n",
    "    # print(x[:, i - 1:i + 1].shape)\n",
    "    # plt.imshow(x[:, i - 1:i + 1], cmap='jet',\n",
    "    #            c=np.log(error.numpy()))\n",
    "    # plt.pcolormesh(x[:, i - 1], x[:, i], np.log(error),\n",
    "    #                cmap='jet', shading='gouraud')\n",
    "    # cbar = plt.colorbar()\n",
    "    # cbar.set_label('Log estimation error')\n",
    "    # cbar = plt.colorbar()\n",
    "    cbar.set_label('Log estimation error')\n",
    "    plt.title('Log of RMSE between ' + r'$x$' + ' and '\n",
    "              + r'$\\hat{'r'x}$')\n",
    "    plt.xlabel(rf'$x_{i}$')\n",
    "    plt.ylabel(rf'$x_{i + 1}$')\n",
    "    plt.legend()\n",
    "    plt.show()"
   ],
   "metadata": {
    "collapsed": false,
    "pycharm": {
     "name": "#%%\n",
     "is_executing": true
    }
   }
  },
  {
   "cell_type": "code",
   "execution_count": null,
   "outputs": [],
   "source": [
    "# Heatmap of RMSE(x, x_hat) with T_star\n",
    "num_samples = 10000\n",
    "heatmap_data = learner_T_star.model.generate_data_svl(np.array([[-1.,1],\n",
    "                                                                [-1.,1]]),\n",
    "                                                      num_samples)\n",
    "x = heatmap_data[:, :learner_T_star.model.dim_x]\n",
    "z = heatmap_data[:, learner_T_star.model.dim_x:]\n",
    "x_hat = learner_T_star.model('T_star', z)\n",
    "error = RMSE(x, x_hat, dim=1)\n",
    "print(x.shape, error.shape)\n",
    "for i in range(1, x.shape[1]):\n",
    "    # https://stackoverflow.com/questions/37822925/how-to-smooth-by-interpolation-when-using-pcolormesh\n",
    "    name = 'RMSE_heatmap' + str(i) + '.pdf'\n",
    "    plt.scatter(x[:, i - 1], x[:, i], cmap='jet',\n",
    "                c=np.log(error.detach().numpy()))\n",
    "    cbar = plt.colorbar()\n",
    "    cbar.set_label('Log estimation error')\n",
    "    # print(x[:, i - 1:i + 1].shape)\n",
    "    # plt.imshow(x[:, i - 1:i + 1], cmap='jet',\n",
    "    #            c=np.log(error.numpy()))\n",
    "    # plt.pcolormesh(x[:, i - 1], x[:, i], np.log(error),\n",
    "    #                cmap='jet', shading='gouraud')\n",
    "    # cbar = plt.colorbar()\n",
    "    # cbar.set_label('Log estimation error')\n",
    "    # cbar = plt.colorbar()\n",
    "    cbar.set_label('Log estimation error')\n",
    "    plt.title('Log of RMSE between ' + r'$x$' + ' and '\n",
    "              + r'$\\hat{'r'x}$')\n",
    "    plt.xlabel(rf'$x_{i}$')\n",
    "    plt.ylabel(rf'$x_{i + 1}$')\n",
    "    plt.legend()\n",
    "    plt.show()"
   ],
   "metadata": {
    "collapsed": false,
    "pycharm": {
     "name": "#%%\n",
     "is_executing": true
    }
   }
  }
 ]
}