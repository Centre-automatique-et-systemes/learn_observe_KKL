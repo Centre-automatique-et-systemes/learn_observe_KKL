{
 "cells": [
  {
   "cell_type": "markdown",
   "metadata": {
    "pycharm": {
     "name": "#%% md\n"
    }
   },
   "source": [
    "!pip3 install git+https://github.com/Centre-automatique-et-systemes/learn_observe_KKL.git gwpy &> /dev/null\n",
    "!pip3 install git+https://github.com/aliutkus/torchinterp1d.git gwpy &> /dev/null\n"
   ]
  },
  {
   "cell_type": "code",
<<<<<<< HEAD
   "execution_count": 1,
   "metadata": {
    "pycharm": {
     "name": "#%%\n"
    }
   },
=======
   "execution_count": 3,
   "metadata": {},
   "outputs": [
    {
     "name": "stdout",
     "output_type": "stream",
     "text": [
      "Collecting dill\n",
      "  Downloading dill-0.3.5.1-py2.py3-none-any.whl (95 kB)\n",
      "Installing collected packages: dill\n",
      "Successfully installed dill-0.3.5.1\n"
     ]
    }
   ],
   "source": [
    "#!pip install dill"
   ]
  },
  {
   "cell_type": "code",
   "execution_count": 3,
   "metadata": {},
>>>>>>> origin/main
   "outputs": [],
   "source": [
    "import sys ; sys.path.append('../')\n",
    "import torch.optim as optim\n",
    "import torch\n",
    "import seaborn as sb\n",
    "import pytorch_lightning as pl\n",
    "import numpy as np\n",
    "\n",
    "from sklearn.model_selection import train_test_split\n",
    "from pytorch_lightning.loggers import TensorBoardLogger\n",
    "from pytorch_lightning.callbacks import ModelCheckpoint\n",
    "\n",
    "from learn_KKL.luenberger_observer_jointly import LuenbergerObserverJointly\n",
    "from learn_KKL.system import RevDuffing\n",
    "from learn_KKL.learner import Learner\n",
    "from learn_KKL.utils import generate_mesh\n",
    "\n",
    "sb.set_style('whitegrid')"
   ]
  },
  {
   "cell_type": "code",
<<<<<<< HEAD
   "execution_count": 2,
   "metadata": {
    "pycharm": {
     "name": "#%%\n"
    }
=======
   "execution_count": 4,
   "metadata": {
    "collapsed": true
>>>>>>> origin/main
   },
   "outputs": [
    {
     "name": "stderr",
     "output_type": "stream",
     "text": [
      "GPU available: False, used: False\n",
      "TPU available: False, using: 0 TPU cores\n",
      "IPU available: False, using: 0 IPUs\n",
      "HPU available: False, using: 0 HPUs\n"
     ]
    },
    {
     "name": "stdout",
     "output_type": "stream",
     "text": [
      "Results saved in in C:\\Users\\pchauris\\stage\\dir\\repo\\learn_observe_KKL\\jupyter_notebooks\\runs\\Reversed_Duffing_Oscillator\\Autoencoder\\exp_0\n"
     ]
    }
   ],
   "source": [
    "# Generate the data\n",
    "system = RevDuffing()\n",
    "data = generate_mesh(np.array([[-1., 1.], [-1., 1.]]), 10000, method='LHS')\n",
    "data, val_data = train_test_split(data, test_size=0.3, shuffle=True)\n",
    "\n",
    "# Create the observer (autoencoder design)\n",
    "observer = LuenbergerObserverJointly(dim_x=2, dim_y=1, method=\"Autoencoder\",\n",
    "                                     wc=0.5)\n",
    "observer.set_dynamics(system)\n",
    "\n",
    "# Train using pytorch-lightning and the learner class\n",
    "# Options for training\n",
    "trainer_options={'max_epochs': 15}\n",
    "optimizer_options = {'weight_decay': 1e-6}\n",
    "scheduler_options = {'mode': 'min', 'factor': 0.1, 'patience': 3,\n",
    "                     'threshold': 5e-4, 'verbose': True}\n",
    "stopper = pl.callbacks.early_stopping.EarlyStopping(\n",
    "    monitor='val_loss', min_delta=5e-4, patience=3, verbose=False, mode='min')\n",
    "# Instantiate learner\n",
    "learner = Learner(observer=observer, system=system, training_data=data,\n",
    "                  validation_data=val_data, method='Autoencoder',\n",
    "                  batch_size=10, lr=5e-4, optimizer=optim.Adam,\n",
    "                  optimizer_options=optimizer_options,\n",
    "                  scheduler=optim.lr_scheduler.ReduceLROnPlateau,\n",
    "                  scheduler_options=scheduler_options)\n",
    "# Define logger and checkpointing\n",
    "logger = TensorBoardLogger(save_dir=learner.results_folder + '/tb_logs')\n",
    "checkpoint_callback = ModelCheckpoint(monitor='val_loss')\n",
    "trainer = pl.Trainer(\n",
    "    callbacks=[stopper, checkpoint_callback], **trainer_options, logger=logger,\n",
    "    log_every_n_steps=1, check_val_every_n_epoch=3)"
   ]
  },
  {
   "cell_type": "code",
   "execution_count": 7,
   "metadata": {
    "collapsed": true,
    "pycharm": {
     "name": "#%%\n"
    }
   },
   "outputs": [
    {
     "name": "stderr",
     "output_type": "stream",
     "text": [
      "Missing logger folder: /Users/mona/PhD_code/learn_observe_KKL/src/jupyter_notebooks/runs/Reversed_Duffing_Oscillator/Autoencoder/exp_8/tb_logs/default\n",
      "\n",
      "  | Name  | Type                      | Params\n",
      "----------------------------------------------------\n",
      "0 | model | LuenbergerObserverJointly | 26.1 K\n",
      "----------------------------------------------------\n",
      "26.1 K    Trainable params\n",
      "0         Non-trainable params\n",
      "26.1 K    Total params\n",
      "0.104     Total estimated model params size (MB)\n"
     ]
    },
    {
     "name": "stdout",
     "output_type": "stream",
     "text": [
      "Logs stored in /Users/mona/PhD_code/learn_observe_KKL/src/jupyter_notebooks/runs/Reversed_Duffing_Oscillator/Autoencoder/exp_8/tb_logs\n"
     ]
    },
    {
     "data": {
      "application/vnd.jupyter.widget-view+json": {
       "model_id": "",
       "version_major": 2,
       "version_minor": 0
      },
      "text/plain": [
       "Validation sanity check: 0it [00:00, ?it/s]"
      ]
     },
     "metadata": {},
     "output_type": "display_data"
    },
    {
     "name": "stdout",
     "output_type": "stream",
     "text": [
      "loss autoencoder None None\n",
      "loss autoencoder None None\n",
      "loss autoencoder None None\n",
      "loss autoencoder None None\n"
     ]
    },
    {
     "name": "stderr",
     "output_type": "stream",
     "text": [
      "/Users/mona/PhD_code/learn_observe_KKL/venv/lib/python3.9/site-packages/pytorch_lightning/trainer/data_loading.py:659: UserWarning: Your `val_dataloader` has `shuffle=True`, it is strongly recommended that you turn this off for val/test/predict dataloaders.\n",
      "  rank_zero_warn(\n",
      "/Users/mona/PhD_code/learn_observe_KKL/venv/lib/python3.9/site-packages/pytorch_lightning/trainer/data_loading.py:132: UserWarning: The dataloader, val_dataloader 0, does not have many workers which may be a bottleneck. Consider increasing the value of the `num_workers` argument` (try 16 which is the number of cpus on this machine) in the `DataLoader` init to improve performance.\n",
      "  rank_zero_warn(\n",
      "/Users/mona/PhD_code/learn_observe_KKL/venv/lib/python3.9/site-packages/pytorch_lightning/trainer/data_loading.py:132: UserWarning: The dataloader, train_dataloader, does not have many workers which may be a bottleneck. Consider increasing the value of the `num_workers` argument` (try 16 which is the number of cpus on this machine) in the `DataLoader` init to improve performance.\n",
      "  rank_zero_warn(\n"
     ]
    },
    {
     "data": {
      "application/vnd.jupyter.widget-view+json": {
       "model_id": "08e7c3ea704d4959a42ce876cea06b8d",
       "version_major": 2,
       "version_minor": 0
      },
      "text/plain": [
       "Training: 0it [00:00, ?it/s]"
      ]
     },
     "metadata": {},
     "output_type": "display_data"
    },
    {
     "data": {
      "application/vnd.jupyter.widget-view+json": {
       "model_id": "",
       "version_major": 2,
       "version_minor": 0
      },
      "text/plain": [
       "Validating: 0it [00:00, ?it/s]"
      ]
     },
     "metadata": {},
     "output_type": "display_data"
    },
    {
     "data": {
      "application/vnd.jupyter.widget-view+json": {
       "model_id": "",
       "version_major": 2,
       "version_minor": 0
      },
      "text/plain": [
       "Validating: 0it [00:00, ?it/s]"
      ]
     },
     "metadata": {},
     "output_type": "display_data"
    },
    {
     "data": {
      "application/vnd.jupyter.widget-view+json": {
       "model_id": "",
       "version_major": 2,
       "version_minor": 0
      },
      "text/plain": [
       "Validating: 0it [00:00, ?it/s]"
      ]
     },
     "metadata": {},
     "output_type": "display_data"
    },
    {
     "data": {
      "application/vnd.jupyter.widget-view+json": {
       "model_id": "",
       "version_major": 2,
       "version_minor": 0
      },
      "text/plain": [
       "Validating: 0it [00:00, ?it/s]"
      ]
     },
     "metadata": {},
     "output_type": "display_data"
    },
    {
     "name": "stdout",
     "output_type": "stream",
     "text": [
      "Epoch    12: reducing learning rate of group 0 to 5.0000e-05.\n"
     ]
    },
    {
     "name": "stderr",
     "output_type": "stream",
     "text": [
      "/Users/mona/PhD_code/learn_observe_KKL/venv/lib/python3.9/site-packages/torch/_tensor.py:1013: UserWarning: The .grad attribute of a Tensor that is not a leaf Tensor is being accessed. Its .grad attribute won't be populated during autograd.backward(). If you indeed want the .grad field to be populated for a non-leaf Tensor, use .retain_grad() on the non-leaf Tensor. If you access the non-leaf Tensor by mistake, make sure you access the leaf Tensor instead. See github.com/pytorch/pytorch/pull/30531 for more informations. (Triggered internally at  aten/src/ATen/core/TensorBody.h:417.)\n",
      "  return self._grad\n"
     ]
    },
    {
     "name": "stdout",
     "output_type": "stream",
     "text": [
      "loss autoencoder None None\n",
      "loss autoencoder None None\n",
      "tensor([-1.+0.j, -2.+0.j, -3.+0.j], grad_fn=<LinalgEigBackward0>) None None\n",
      "\n",
      "loss autoencoder None tensor([[ 0.0000,  0.0000],\n",
      "        [ 0.0000,  0.0000],\n",
      "        [ 0.0021,  0.0012],\n",
      "        [-0.0767,  0.0206],\n",
      "        [ 0.0111, -0.0157],\n",
      "        [ 0.0344, -0.0417],\n",
      "        [ 0.0055,  0.0026],\n",
      "        [-0.0226, -0.0082],\n",
      "        [ 0.0732, -0.1050],\n",
      "        [-0.0010, -0.0078],\n",
      "        [-0.0148,  0.0180],\n",
      "        [-0.0483,  0.0176],\n",
      "        [ 0.0000,  0.0000],\n",
      "        [ 0.0000,  0.0000],\n",
      "        [ 0.0277,  0.0021],\n",
      "        [-0.0925,  0.0491],\n",
      "        [-0.0867,  0.0348],\n",
      "        [ 0.0129,  0.0049],\n",
      "        [ 0.0170, -0.0074],\n",
      "        [ 0.0232, -0.0371],\n",
      "        [ 0.0000,  0.0000],\n",
      "        [-0.0090, -0.0202],\n",
      "        [ 0.0000,  0.0000],\n",
      "        [-0.0085,  0.0084],\n",
      "        [ 0.0045,  0.0025],\n",
      "        [ 0.0267,  0.0114],\n",
      "        [ 0.0255,  0.0024],\n",
      "        [-0.0005,  0.0229],\n",
      "        [-0.0068,  0.0081],\n",
      "        [-0.0215,  0.0008],\n",
      "        [-0.0135, -0.0260],\n",
      "        [ 0.0000,  0.0000],\n",
      "        [-0.0525, -0.0012],\n",
      "        [-0.0936,  0.0589],\n",
      "        [-0.0114,  0.0047],\n",
      "        [ 0.0493,  0.0037],\n",
      "        [ 0.0334, -0.0013],\n",
      "        [ 0.0366,  0.0207],\n",
      "        [-0.0004,  0.0061],\n",
      "        [ 0.0272, -0.0081],\n",
      "        [ 0.0013, -0.0103],\n",
      "        [ 0.0073, -0.0095],\n",
      "        [ 0.0683, -0.0200],\n",
      "        [ 0.0000,  0.0000],\n",
      "        [ 0.0052, -0.0138],\n",
      "        [-0.0516,  0.0105],\n",
      "        [ 0.0000,  0.0000],\n",
      "        [ 0.0348, -0.0253],\n",
      "        [ 0.0243, -0.0015],\n",
      "        [ 0.0047, -0.0175]])\n",
      "loss autoencoder None tensor([[ 0.0000,  0.0000],\n",
      "        [ 0.0000,  0.0000],\n",
      "        [ 0.0021,  0.0012],\n",
      "        [-0.0767,  0.0206],\n",
      "        [ 0.0111, -0.0157],\n",
      "        [ 0.0344, -0.0417],\n",
      "        [ 0.0055,  0.0026],\n",
      "        [-0.0226, -0.0082],\n",
      "        [ 0.0732, -0.1050],\n",
      "        [-0.0010, -0.0078],\n",
      "        [-0.0148,  0.0180],\n",
      "        [-0.0483,  0.0176],\n",
      "        [ 0.0000,  0.0000],\n",
      "        [ 0.0000,  0.0000],\n",
      "        [ 0.0277,  0.0021],\n",
      "        [-0.0925,  0.0491],\n",
      "        [-0.0867,  0.0348],\n",
      "        [ 0.0129,  0.0049],\n",
      "        [ 0.0170, -0.0074],\n",
      "        [ 0.0232, -0.0371],\n",
      "        [ 0.0000,  0.0000],\n",
      "        [-0.0090, -0.0202],\n",
      "        [ 0.0000,  0.0000],\n",
      "        [-0.0085,  0.0084],\n",
      "        [ 0.0045,  0.0025],\n",
      "        [ 0.0267,  0.0114],\n",
      "        [ 0.0255,  0.0024],\n",
      "        [-0.0005,  0.0229],\n",
      "        [-0.0068,  0.0081],\n",
      "        [-0.0215,  0.0008],\n",
      "        [-0.0135, -0.0260],\n",
      "        [ 0.0000,  0.0000],\n",
      "        [-0.0525, -0.0012],\n",
      "        [-0.0936,  0.0589],\n",
      "        [-0.0114,  0.0047],\n",
      "        [ 0.0493,  0.0037],\n",
      "        [ 0.0334, -0.0013],\n",
      "        [ 0.0366,  0.0207],\n",
      "        [-0.0004,  0.0061],\n",
      "        [ 0.0272, -0.0081],\n",
      "        [ 0.0013, -0.0103],\n",
      "        [ 0.0073, -0.0095],\n",
      "        [ 0.0683, -0.0200],\n",
      "        [ 0.0000,  0.0000],\n",
      "        [ 0.0052, -0.0138],\n",
      "        [-0.0516,  0.0105],\n",
      "        [ 0.0000,  0.0000],\n",
      "        [ 0.0348, -0.0253],\n",
      "        [ 0.0243, -0.0015],\n",
      "        [ 0.0047, -0.0175]])\n",
      "tensor([-0.9981+0.j, -1.9981+0.j, -2.9981+0.j], grad_fn=<LinalgEigBackward0>) None tensor([[ 0.0000,  0.0000],\n",
      "        [ 0.0000,  0.0000],\n",
      "        [ 0.0021,  0.0012],\n",
      "        [-0.0767,  0.0206],\n",
      "        [ 0.0111, -0.0157],\n",
      "        [ 0.0344, -0.0417],\n",
      "        [ 0.0055,  0.0026],\n",
      "        [-0.0226, -0.0082],\n",
      "        [ 0.0732, -0.1050],\n",
      "        [-0.0010, -0.0078],\n",
      "        [-0.0148,  0.0180],\n",
      "        [-0.0483,  0.0176],\n",
      "        [ 0.0000,  0.0000],\n",
      "        [ 0.0000,  0.0000],\n",
      "        [ 0.0277,  0.0021],\n",
      "        [-0.0925,  0.0491],\n",
      "        [-0.0867,  0.0348],\n",
      "        [ 0.0129,  0.0049],\n",
      "        [ 0.0170, -0.0074],\n",
      "        [ 0.0232, -0.0371],\n",
      "        [ 0.0000,  0.0000],\n",
      "        [-0.0090, -0.0202],\n",
      "        [ 0.0000,  0.0000],\n",
      "        [-0.0085,  0.0084],\n",
      "        [ 0.0045,  0.0025],\n",
      "        [ 0.0267,  0.0114],\n",
      "        [ 0.0255,  0.0024],\n",
      "        [-0.0005,  0.0229],\n",
      "        [-0.0068,  0.0081],\n",
      "        [-0.0215,  0.0008],\n",
      "        [-0.0135, -0.0260],\n",
      "        [ 0.0000,  0.0000],\n",
      "        [-0.0525, -0.0012],\n",
      "        [-0.0936,  0.0589],\n",
      "        [-0.0114,  0.0047],\n",
      "        [ 0.0493,  0.0037],\n",
      "        [ 0.0334, -0.0013],\n",
      "        [ 0.0366,  0.0207],\n",
      "        [-0.0004,  0.0061],\n",
      "        [ 0.0272, -0.0081],\n",
      "        [ 0.0013, -0.0103],\n",
      "        [ 0.0073, -0.0095],\n",
      "        [ 0.0683, -0.0200],\n",
      "        [ 0.0000,  0.0000],\n",
      "        [ 0.0052, -0.0138],\n",
      "        [-0.0516,  0.0105],\n",
      "        [ 0.0000,  0.0000],\n",
      "        [ 0.0348, -0.0253],\n",
      "        [ 0.0243, -0.0015],\n",
      "        [ 0.0047, -0.0175]])\n",
      "\n",
      "loss autoencoder None tensor([[ 0.0000,  0.0000],\n",
      "        [ 0.0000,  0.0000],\n",
      "        [ 0.0030,  0.0050],\n",
      "        [-0.0771, -0.0254],\n",
      "        [ 0.0119, -0.0088],\n",
      "        [ 0.0331, -0.0064],\n",
      "        [ 0.0000,  0.0000],\n",
      "        [-0.0091, -0.0051],\n",
      "        [ 0.0245, -0.0296],\n",
      "        [-0.0025, -0.0008],\n",
      "        [-0.0042,  0.0077],\n",
      "        [-0.0074,  0.0190],\n",
      "        [ 0.0000,  0.0000],\n",
      "        [ 0.0000,  0.0000],\n",
      "        [ 0.0370,  0.0246],\n",
      "        [-0.0760, -0.0214],\n",
      "        [-0.0686, -0.0126],\n",
      "        [ 0.0022,  0.0055],\n",
      "        [ 0.0182,  0.0245],\n",
      "        [ 0.0043, -0.0052],\n",
      "        [ 0.0000,  0.0000],\n",
      "        [-0.0188,  0.0001],\n",
      "        [ 0.0000,  0.0000],\n",
      "        [ 0.0065,  0.0022],\n",
      "        [ 0.0043,  0.0020],\n",
      "        [ 0.0000,  0.0000],\n",
      "        [ 0.0243,  0.0134],\n",
      "        [ 0.0096,  0.0131],\n",
      "        [ 0.0000,  0.0000],\n",
      "        [ 0.0000,  0.0000],\n",
      "        [-0.0392, -0.0491],\n",
      "        [ 0.0000,  0.0000],\n",
      "        [-0.0505, -0.0307],\n",
      "        [-0.0496,  0.0220],\n",
      "        [-0.0036,  0.0003],\n",
      "        [ 0.0489,  0.0414],\n",
      "        [ 0.0284,  0.0127],\n",
      "        [ 0.0717,  0.0609],\n",
      "        [-0.0011, -0.0025],\n",
      "        [ 0.0000,  0.0000],\n",
      "        [-0.0097, -0.0009],\n",
      "        [-0.0034, -0.0050],\n",
      "        [ 0.0425,  0.0059],\n",
      "        [ 0.0000,  0.0000],\n",
      "        [ 0.0041, -0.0047],\n",
      "        [-0.0332,  0.0102],\n",
      "        [ 0.0000,  0.0000],\n",
      "        [ 0.0290, -0.0170],\n",
      "        [ 0.0152,  0.0006],\n",
      "        [-0.0067, -0.0078]])\n",
      "loss autoencoder None tensor([[ 0.0000,  0.0000],\n",
      "        [ 0.0000,  0.0000],\n",
      "        [ 0.0030,  0.0050],\n",
      "        [-0.0771, -0.0254],\n",
      "        [ 0.0119, -0.0088],\n",
      "        [ 0.0331, -0.0064],\n",
      "        [ 0.0000,  0.0000],\n",
      "        [-0.0091, -0.0051],\n",
      "        [ 0.0245, -0.0296],\n",
      "        [-0.0025, -0.0008],\n",
      "        [-0.0042,  0.0077],\n",
      "        [-0.0074,  0.0190],\n",
      "        [ 0.0000,  0.0000],\n",
      "        [ 0.0000,  0.0000],\n",
      "        [ 0.0370,  0.0246],\n",
      "        [-0.0760, -0.0214],\n",
      "        [-0.0686, -0.0126],\n",
      "        [ 0.0022,  0.0055],\n",
      "        [ 0.0182,  0.0245],\n",
      "        [ 0.0043, -0.0052],\n",
      "        [ 0.0000,  0.0000],\n",
      "        [-0.0188,  0.0001],\n",
      "        [ 0.0000,  0.0000],\n",
      "        [ 0.0065,  0.0022],\n",
      "        [ 0.0043,  0.0020],\n",
      "        [ 0.0000,  0.0000],\n",
      "        [ 0.0243,  0.0134],\n",
      "        [ 0.0096,  0.0131],\n",
      "        [ 0.0000,  0.0000],\n",
      "        [ 0.0000,  0.0000],\n",
      "        [-0.0392, -0.0491],\n",
      "        [ 0.0000,  0.0000],\n",
      "        [-0.0505, -0.0307],\n",
      "        [-0.0496,  0.0220],\n",
      "        [-0.0036,  0.0003],\n",
      "        [ 0.0489,  0.0414],\n",
      "        [ 0.0284,  0.0127],\n",
      "        [ 0.0717,  0.0609],\n",
      "        [-0.0011, -0.0025],\n",
      "        [ 0.0000,  0.0000],\n",
      "        [-0.0097, -0.0009],\n",
      "        [-0.0034, -0.0050],\n",
      "        [ 0.0425,  0.0059],\n",
      "        [ 0.0000,  0.0000],\n",
      "        [ 0.0041, -0.0047],\n",
      "        [-0.0332,  0.0102],\n",
      "        [ 0.0000,  0.0000],\n",
      "        [ 0.0290, -0.0170],\n",
      "        [ 0.0152,  0.0006],\n",
      "        [-0.0067, -0.0078]])\n",
      "tensor([-0.9963+0.j, -1.9967+0.j, -2.9963+0.j], grad_fn=<LinalgEigBackward0>) None tensor([[ 0.0000,  0.0000],\n",
      "        [ 0.0000,  0.0000],\n",
      "        [ 0.0030,  0.0050],\n",
      "        [-0.0771, -0.0254],\n",
      "        [ 0.0119, -0.0088],\n",
      "        [ 0.0331, -0.0064],\n",
      "        [ 0.0000,  0.0000],\n",
      "        [-0.0091, -0.0051],\n",
      "        [ 0.0245, -0.0296],\n",
      "        [-0.0025, -0.0008],\n",
      "        [-0.0042,  0.0077],\n",
      "        [-0.0074,  0.0190],\n",
      "        [ 0.0000,  0.0000],\n",
      "        [ 0.0000,  0.0000],\n",
      "        [ 0.0370,  0.0246],\n",
      "        [-0.0760, -0.0214],\n",
      "        [-0.0686, -0.0126],\n",
      "        [ 0.0022,  0.0055],\n",
      "        [ 0.0182,  0.0245],\n",
      "        [ 0.0043, -0.0052],\n",
      "        [ 0.0000,  0.0000],\n",
      "        [-0.0188,  0.0001],\n",
      "        [ 0.0000,  0.0000],\n",
      "        [ 0.0065,  0.0022],\n",
      "        [ 0.0043,  0.0020],\n",
      "        [ 0.0000,  0.0000],\n",
      "        [ 0.0243,  0.0134],\n",
      "        [ 0.0096,  0.0131],\n",
      "        [ 0.0000,  0.0000],\n",
      "        [ 0.0000,  0.0000],\n",
      "        [-0.0392, -0.0491],\n",
      "        [ 0.0000,  0.0000],\n",
      "        [-0.0505, -0.0307],\n",
      "        [-0.0496,  0.0220],\n",
      "        [-0.0036,  0.0003],\n",
      "        [ 0.0489,  0.0414],\n",
      "        [ 0.0284,  0.0127],\n",
      "        [ 0.0717,  0.0609],\n",
      "        [-0.0011, -0.0025],\n",
      "        [ 0.0000,  0.0000],\n",
      "        [-0.0097, -0.0009],\n",
      "        [-0.0034, -0.0050],\n",
      "        [ 0.0425,  0.0059],\n",
      "        [ 0.0000,  0.0000],\n",
      "        [ 0.0041, -0.0047],\n",
      "        [-0.0332,  0.0102],\n",
      "        [ 0.0000,  0.0000],\n",
      "        [ 0.0290, -0.0170],\n",
      "        [ 0.0152,  0.0006],\n",
      "        [-0.0067, -0.0078]])\n"
     ]
    },
    {
     "name": "stderr",
     "output_type": "stream",
     "text": [
      "No artists with labels found to put in legend.  Note that artists whose label start with an underscore are ignored when legend() is called with no argument.\n"
     ]
    }
   ],
   "source": [
    "# To see logger in tensorboard, copy the following output name_of_folder\n",
    "print(f'Logs stored in {learner.results_folder}/tb_logs')\n",
    "# which should be similar to jupyter_notebooks/runs/method/exp_0/tb_logs/\n",
    "# Then type this in terminal:\n",
    "# tensorboard --logdir=name_of_folder --port=8080\n",
    "\n",
    "# Train and save results\n",
    "trainer.fit(learner)\n",
    "learner.save_results(limits=np.array([[-1, 1.], [-1., 1.]]), nb_trajs=10,\n",
    "                     tsim=(0, 60), dt=1e-2, fast=True,\n",
    "                     checkpoint_path=checkpoint_callback.best_model_path)"
   ]
  }
 ],
 "metadata": {
  "interpreter": {
   "hash": "876800e5f4140bb8c9eb7cb3630e01ad622f0981781552d39a63585948556d04"
  },
  "kernelspec": {
   "display_name": "Python 3 (ipykernel)",
   "language": "python",
   "name": "python3"
  },
  "language_info": {
   "codemirror_mode": {
    "name": "ipython",
    "version": 3
   },
   "file_extension": ".py",
   "mimetype": "text/x-python",
   "name": "python",
   "nbconvert_exporter": "python",
   "pygments_lexer": "ipython3",
   "version": "3.10.5"
  }
 },
 "nbformat": 4,
 "nbformat_minor": 2
}