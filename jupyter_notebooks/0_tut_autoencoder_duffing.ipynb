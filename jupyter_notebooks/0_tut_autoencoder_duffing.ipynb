{
 "cells": [
  {
   "cell_type": "code",
   "execution_count": null,
   "metadata": {},
   "outputs": [],
   "source": [
    "!pip3 install git+https://github.com/Centre-automatique-et-systemes/learn_observe_KKL.git gwpy &> /dev/null\n",
    "!pip3 install git+https://github.com/aliutkus/torchinterp1d.git gwpy &> /dev/null\n"
   ]
  },
  {
   "cell_type": "code",
   "execution_count": 1,
   "metadata": {},
   "outputs": [],
   "source": [
    "import sys ; sys.path.append('../')\n",
    "import torch.optim as optim\n",
    "import torch\n",
    "import seaborn as sb\n",
    "import pytorch_lightning as pl\n",
    "import numpy as np\n",
    "\n",
    "from sklearn.model_selection import train_test_split\n",
    "from pytorch_lightning.loggers import TensorBoardLogger\n",
    "from pytorch_lightning.callbacks import ModelCheckpoint\n",
    "\n",
    "from learn_KKL.luenberger_observer import LuenbergerObserver\n",
    "from learn_KKL.system import RevDuffing\n",
    "from learn_KKL.learner import Learner\n",
    "from learn_KKL.utils import generate_mesh\n",
    "\n",
    "sb.set_style('whitegrid')"
   ]
  },
  {
   "cell_type": "code",
   "execution_count": 5,
   "metadata": {},
   "outputs": [
    {
     "name": "stderr",
     "output_type": "stream",
     "text": [
      "GPU available: False, used: False\n",
      "TPU available: False, using: 0 TPU cores\n",
      "IPU available: False, using: 0 IPUs\n"
     ]
    },
    {
     "name": "stdout",
     "output_type": "stream",
     "text": [
      "Results saved in in /Users/mona/PhD_code/learn_observe_KKL/src/jupyter_notebooks/runs/RevDuffing/Autoencoder/exp_0\n"
     ]
    }
   ],
   "source": [
    "# Generate the data\n",
    "system = RevDuffing()\n",
    "data = generate_mesh(np.array([[-1., 1.], [-1., 1.]]), 72000)\n",
    "data, val_data = train_test_split(data, test_size=0.3, shuffle=True)\n",
    "\n",
    "# Create the observer (autoencoder design\n",
    "observer = LuenbergerObserver(dim_x=2, dim_y=1, method=\"Autoencoder\", wc=0.2)\n",
    "observer.set_dynamics(system)\n",
    "\n",
    "# Train using pytorch-lightning and the learner class\n",
    "# Options for training\n",
    "trainer_options={'max_epochs': 15}\n",
    "optimizer_options = {'weight_decay': 1e-6}\n",
    "scheduler_options = {'mode': 'min', 'factor': 0.1, 'patience': 3,\n",
    "                     'threshold': 5e-4, 'verbose': True}\n",
    "stopper = pl.callbacks.early_stopping.EarlyStopping(\n",
    "    monitor='val_loss', min_delta=5e-4, patience=3, verbose=False, mode='min')\n",
    "# Instantiate learner\n",
    "learner = Learner(observer=observer, system=system, training_data=data,\n",
    "                  validation_data=val_data, method='Autoencoder',\n",
    "                  batch_size=10, lr=5e-4, optimizer=optim.Adam,\n",
    "                  optimizer_options=optimizer_options,\n",
    "                  scheduler=optim.lr_scheduler.ReduceLROnPlateau,\n",
    "                  scheduler_options=scheduler_options)\n",
    "# Define logger and checkpointing\n",
    "logger = TensorBoardLogger(save_dir=learner.results_folder + '/tb_logs')\n",
    "checkpoint_callback = ModelCheckpoint(monitor='val_loss')\n",
    "trainer = pl.Trainer(\n",
    "    callbacks=[stopper, checkpoint_callback], **trainer_options, logger=logger,\n",
    "    log_every_n_steps=1, check_val_every_n_epoch=3)\n"
   ]
  },
  {
   "cell_type": "code",
   "execution_count": 6,
   "metadata": {
    "pycharm": {
     "name": "#%%\n"
    }
   },
   "outputs": [
    {
     "name": "stderr",
     "output_type": "stream",
     "text": [
      "\n",
      "  | Name  | Type               | Params\n",
      "---------------------------------------------\n",
      "0 | model | LuenbergerObserver | 26.1 K\n",
      "---------------------------------------------\n",
      "26.1 K    Trainable params\n",
      "0         Non-trainable params\n",
      "26.1 K    Total params\n",
      "0.104     Total estimated model params size (MB)\n"
     ]
    },
    {
     "name": "stdout",
     "output_type": "stream",
     "text": [
      "Logs stored in /Users/mona/PhD_code/learn_observe_KKL/src/jupyter_notebooks/runs/RevDuffing/Autoencoder/exp_0/tb_logs\n"
     ]
    },
    {
     "data": {
      "text/plain": "Validation sanity check: 0it [00:00, ?it/s]",
      "application/vnd.jupyter.widget-view+json": {
       "version_major": 2,
       "version_minor": 0,
       "model_id": "cc6de16c8e5b4cf9baf05efe0fc369f1"
      }
     },
     "metadata": {},
     "output_type": "display_data"
    },
    {
     "name": "stderr",
     "output_type": "stream",
     "text": [
      "/Users/mona/PhD_code/learn_observe_KKL/venv/lib/python3.9/site-packages/pytorch_lightning/trainer/data_loading.py:372: UserWarning: Your val_dataloader has `shuffle=True`, it is best practice to turn this off for val/test/predict dataloaders.\n",
      "  rank_zero_warn(\n",
      "/Users/mona/PhD_code/learn_observe_KKL/venv/lib/python3.9/site-packages/pytorch_lightning/trainer/data_loading.py:105: UserWarning: The dataloader, val dataloader 0, does not have many workers which may be a bottleneck. Consider increasing the value of the `num_workers` argument` (try 16 which is the number of cpus on this machine) in the `DataLoader` init to improve performance.\n",
      "  rank_zero_warn(\n",
      "/Users/mona/PhD_code/learn_observe_KKL/venv/lib/python3.9/site-packages/pytorch_lightning/trainer/data_loading.py:105: UserWarning: The dataloader, train dataloader, does not have many workers which may be a bottleneck. Consider increasing the value of the `num_workers` argument` (try 16 which is the number of cpus on this machine) in the `DataLoader` init to improve performance.\n",
      "  rank_zero_warn(\n"
     ]
    },
    {
     "data": {
      "text/plain": "Training: -1it [00:00, ?it/s]",
      "application/vnd.jupyter.widget-view+json": {
       "version_major": 2,
       "version_minor": 0,
       "model_id": "27792f50395f466d84592610431d5828"
      }
     },
     "metadata": {},
     "output_type": "display_data"
    },
    {
     "data": {
      "text/plain": "Validating: 0it [00:00, ?it/s]",
      "application/vnd.jupyter.widget-view+json": {
       "version_major": 2,
       "version_minor": 0,
       "model_id": "d498bedd7349454c886186ff28510437"
      }
     },
     "metadata": {},
     "output_type": "display_data"
    },
    {
     "data": {
      "text/plain": "Validating: 0it [00:00, ?it/s]",
      "application/vnd.jupyter.widget-view+json": {
       "version_major": 2,
       "version_minor": 0,
       "model_id": "05daf10ead2e4bd2a9de2cb554899dc8"
      }
     },
     "metadata": {},
     "output_type": "display_data"
    },
    {
     "data": {
      "text/plain": "Validating: 0it [00:00, ?it/s]",
      "application/vnd.jupyter.widget-view+json": {
       "version_major": 2,
       "version_minor": 0,
       "model_id": "b18942d19b9544d4a924e681c7eecb61"
      }
     },
     "metadata": {},
     "output_type": "display_data"
    },
    {
     "name": "stdout",
     "output_type": "stream",
     "text": [
      "Epoch     9: reducing learning rate of group 0 to 5.0000e-05.\n"
     ]
    },
    {
     "data": {
      "text/plain": "Validating: 0it [00:00, ?it/s]",
      "application/vnd.jupyter.widget-view+json": {
       "version_major": 2,
       "version_minor": 0,
       "model_id": "d0d1688714d640e08a2c5bd30360d306"
      }
     },
     "metadata": {},
     "output_type": "display_data"
    },
    {
     "data": {
      "text/plain": "Validating: 0it [00:00, ?it/s]",
      "application/vnd.jupyter.widget-view+json": {
       "version_major": 2,
       "version_minor": 0,
       "model_id": "6858a200306c4e3e90b43f2234fe12ac"
      }
     },
     "metadata": {},
     "output_type": "display_data"
    },
    {
     "name": "stdout",
     "output_type": "stream",
     "text": [
      "Epoch    15: reducing learning rate of group 0 to 5.0000e-06.\n",
      "Saved model in /Users/mona/PhD_code/learn_observe_KKL/src/jupyter_notebooks/runs/RevDuffing/Autoencoder/exp_0\n",
      "Shape of mesh for evaluation: torch.Size([10000, 5])\n"
     ]
    },
    {
     "name": "stderr",
     "output_type": "stream",
     "text": [
      "No handles with labels found to put in legend.\n",
      "No handles with labels found to put in legend.\n",
      "No handles with labels found to put in legend.\n",
      "No handles with labels found to put in legend.\n"
     ]
    }
   ],
   "source": [
    "# To see logger in tensorboard, copy the following output name_of_folder\n",
    "print(f'Logs stored in {learner.results_folder}/tb_logs')\n",
    "# which should be similar to jupyter_notebooks/runs/method/exp_0/tb_logs/\n",
    "# Then type this in terminal:\n",
    "# tensorboard --logdir=name_of_folder --port=8080\n",
    "\n",
    "# Train and save results\n",
    "trainer.fit(learner)\n",
    "learner.save_results(limits=np.array([[-1, 1.], [-1., 1.]]), nb_trajs=10,\n",
    "                     tsim=(0, 60), dt=1e-2, num_samples=100,\n",
    "                     checkpoint_path=checkpoint_callback.best_model_path)"
   ]
  },
  {
   "cell_type": "code",
   "execution_count": 7,
   "metadata": {},
   "outputs": [
    {
     "ename": "IndexError",
     "evalue": "index 1 is out of bounds for dimension 1 with size 1",
     "output_type": "error",
     "traceback": [
      "\u001B[0;31m---------------------------------------------------------------------------\u001B[0m",
      "\u001B[0;31mIndexError\u001B[0m                                Traceback (most recent call last)",
      "\u001B[0;32m/var/folders/p3/klrbnh4x1tn5vhmmlnn29t8c0000gn/T/ipykernel_15131/877863833.py\u001B[0m in \u001B[0;36m<module>\u001B[0;34m\u001B[0m\n\u001B[1;32m      3\u001B[0m \u001B[0mtsim\u001B[0m \u001B[0;34m=\u001B[0m \u001B[0;34m(\u001B[0m\u001B[0;36m0\u001B[0m\u001B[0;34m,\u001B[0m \u001B[0;36m60\u001B[0m\u001B[0;34m)\u001B[0m\u001B[0;34m\u001B[0m\u001B[0;34m\u001B[0m\u001B[0m\n\u001B[1;32m      4\u001B[0m \u001B[0mdt\u001B[0m \u001B[0;34m=\u001B[0m \u001B[0;36m1e-2\u001B[0m\u001B[0;34m\u001B[0m\u001B[0;34m\u001B[0m\u001B[0m\n\u001B[0;32m----> 5\u001B[0;31m \u001B[0mtq\u001B[0m\u001B[0;34m,\u001B[0m \u001B[0msimulation\u001B[0m \u001B[0;34m=\u001B[0m \u001B[0msystem\u001B[0m\u001B[0;34m.\u001B[0m\u001B[0msimulate\u001B[0m\u001B[0;34m(\u001B[0m\u001B[0mtorch\u001B[0m\u001B[0;34m.\u001B[0m\u001B[0mtensor\u001B[0m\u001B[0;34m(\u001B[0m\u001B[0;34m[\u001B[0m\u001B[0;34m[\u001B[0m\u001B[0;36m0.5\u001B[0m\u001B[0;34m]\u001B[0m\u001B[0;34m,\u001B[0m\u001B[0;34m[\u001B[0m\u001B[0;36m0.5\u001B[0m\u001B[0;34m]\u001B[0m\u001B[0;34m]\u001B[0m\u001B[0;34m)\u001B[0m\u001B[0;34m,\u001B[0m \u001B[0mtsim\u001B[0m\u001B[0;34m,\u001B[0m \u001B[0mdt\u001B[0m\u001B[0;34m)\u001B[0m\u001B[0;34m\u001B[0m\u001B[0;34m\u001B[0m\u001B[0m\n\u001B[0m\u001B[1;32m      6\u001B[0m \u001B[0mmeasurement\u001B[0m \u001B[0;34m=\u001B[0m \u001B[0mobserver\u001B[0m\u001B[0;34m.\u001B[0m\u001B[0mh\u001B[0m\u001B[0;34m(\u001B[0m\u001B[0msimulation\u001B[0m\u001B[0;34m[\u001B[0m\u001B[0;34m:\u001B[0m\u001B[0;34m,\u001B[0m \u001B[0;34m:\u001B[0m\u001B[0mobserver\u001B[0m\u001B[0;34m.\u001B[0m\u001B[0mdim_x\u001B[0m\u001B[0;34m,\u001B[0m \u001B[0;36m0\u001B[0m\u001B[0;34m]\u001B[0m\u001B[0;34m.\u001B[0m\u001B[0mT\u001B[0m\u001B[0;34m)\u001B[0m\u001B[0;34m.\u001B[0m\u001B[0mT\u001B[0m\u001B[0;34m\u001B[0m\u001B[0;34m\u001B[0m\u001B[0m\n\u001B[1;32m      7\u001B[0m \u001B[0my\u001B[0m \u001B[0;34m=\u001B[0m \u001B[0mtorch\u001B[0m\u001B[0;34m.\u001B[0m\u001B[0mcat\u001B[0m\u001B[0;34m(\u001B[0m\u001B[0;34m(\u001B[0m\u001B[0mtq\u001B[0m\u001B[0;34m.\u001B[0m\u001B[0munsqueeze\u001B[0m\u001B[0;34m(\u001B[0m\u001B[0;36m1\u001B[0m\u001B[0;34m)\u001B[0m\u001B[0;34m,\u001B[0m \u001B[0mmeasurement\u001B[0m\u001B[0;34m)\u001B[0m\u001B[0;34m,\u001B[0m \u001B[0mdim\u001B[0m\u001B[0;34m=\u001B[0m\u001B[0;36m1\u001B[0m\u001B[0;34m)\u001B[0m\u001B[0;34m\u001B[0m\u001B[0;34m\u001B[0m\u001B[0m\n",
      "\u001B[0;32m~/PhD_code/learn_observe_KKL/src/learn_KKL/system.py\u001B[0m in \u001B[0;36msimulate\u001B[0;34m(self, x_0, tsim, dt)\u001B[0m\n\u001B[1;32m    204\u001B[0m \u001B[0;34m\u001B[0m\u001B[0m\n\u001B[1;32m    205\u001B[0m         \u001B[0;31m# Solve\u001B[0m\u001B[0;34m\u001B[0m\u001B[0;34m\u001B[0m\u001B[0;34m\u001B[0m\u001B[0m\n\u001B[0;32m--> 206\u001B[0;31m         \u001B[0msol\u001B[0m \u001B[0;34m=\u001B[0m \u001B[0modeint\u001B[0m\u001B[0;34m(\u001B[0m\u001B[0mdxdt\u001B[0m\u001B[0;34m,\u001B[0m \u001B[0mx_0\u001B[0m\u001B[0;34m,\u001B[0m \u001B[0mtq\u001B[0m\u001B[0;34m)\u001B[0m\u001B[0;34m\u001B[0m\u001B[0;34m\u001B[0m\u001B[0m\n\u001B[0m\u001B[1;32m    207\u001B[0m \u001B[0;34m\u001B[0m\u001B[0m\n\u001B[1;32m    208\u001B[0m         \u001B[0;32mreturn\u001B[0m \u001B[0mtq\u001B[0m\u001B[0;34m,\u001B[0m \u001B[0mtorch\u001B[0m\u001B[0;34m.\u001B[0m\u001B[0msqueeze\u001B[0m\u001B[0;34m(\u001B[0m\u001B[0msol\u001B[0m\u001B[0;34m)\u001B[0m\u001B[0;34m\u001B[0m\u001B[0;34m\u001B[0m\u001B[0m\n",
      "\u001B[0;32m~/PhD_code/learn_observe_KKL/venv/lib/python3.9/site-packages/torchdiffeq/_impl/odeint.py\u001B[0m in \u001B[0;36modeint\u001B[0;34m(func, y0, t, rtol, atol, method, options, event_fn)\u001B[0m\n\u001B[1;32m     75\u001B[0m \u001B[0;34m\u001B[0m\u001B[0m\n\u001B[1;32m     76\u001B[0m     \u001B[0;32mif\u001B[0m \u001B[0mevent_fn\u001B[0m \u001B[0;32mis\u001B[0m \u001B[0;32mNone\u001B[0m\u001B[0;34m:\u001B[0m\u001B[0;34m\u001B[0m\u001B[0;34m\u001B[0m\u001B[0m\n\u001B[0;32m---> 77\u001B[0;31m         \u001B[0msolution\u001B[0m \u001B[0;34m=\u001B[0m \u001B[0msolver\u001B[0m\u001B[0;34m.\u001B[0m\u001B[0mintegrate\u001B[0m\u001B[0;34m(\u001B[0m\u001B[0mt\u001B[0m\u001B[0;34m)\u001B[0m\u001B[0;34m\u001B[0m\u001B[0;34m\u001B[0m\u001B[0m\n\u001B[0m\u001B[1;32m     78\u001B[0m     \u001B[0;32melse\u001B[0m\u001B[0;34m:\u001B[0m\u001B[0;34m\u001B[0m\u001B[0;34m\u001B[0m\u001B[0m\n\u001B[1;32m     79\u001B[0m         \u001B[0mevent_t\u001B[0m\u001B[0;34m,\u001B[0m \u001B[0msolution\u001B[0m \u001B[0;34m=\u001B[0m \u001B[0msolver\u001B[0m\u001B[0;34m.\u001B[0m\u001B[0mintegrate_until_event\u001B[0m\u001B[0;34m(\u001B[0m\u001B[0mt\u001B[0m\u001B[0;34m[\u001B[0m\u001B[0;36m0\u001B[0m\u001B[0;34m]\u001B[0m\u001B[0;34m,\u001B[0m \u001B[0mevent_fn\u001B[0m\u001B[0;34m)\u001B[0m\u001B[0;34m\u001B[0m\u001B[0;34m\u001B[0m\u001B[0m\n",
      "\u001B[0;32m~/PhD_code/learn_observe_KKL/venv/lib/python3.9/site-packages/torchdiffeq/_impl/solvers.py\u001B[0m in \u001B[0;36mintegrate\u001B[0;34m(self, t)\u001B[0m\n\u001B[1;32m     26\u001B[0m         \u001B[0msolution\u001B[0m\u001B[0;34m[\u001B[0m\u001B[0;36m0\u001B[0m\u001B[0;34m]\u001B[0m \u001B[0;34m=\u001B[0m \u001B[0mself\u001B[0m\u001B[0;34m.\u001B[0m\u001B[0my0\u001B[0m\u001B[0;34m\u001B[0m\u001B[0;34m\u001B[0m\u001B[0m\n\u001B[1;32m     27\u001B[0m         \u001B[0mt\u001B[0m \u001B[0;34m=\u001B[0m \u001B[0mt\u001B[0m\u001B[0;34m.\u001B[0m\u001B[0mto\u001B[0m\u001B[0;34m(\u001B[0m\u001B[0mself\u001B[0m\u001B[0;34m.\u001B[0m\u001B[0mdtype\u001B[0m\u001B[0;34m)\u001B[0m\u001B[0;34m\u001B[0m\u001B[0;34m\u001B[0m\u001B[0m\n\u001B[0;32m---> 28\u001B[0;31m         \u001B[0mself\u001B[0m\u001B[0;34m.\u001B[0m\u001B[0m_before_integrate\u001B[0m\u001B[0;34m(\u001B[0m\u001B[0mt\u001B[0m\u001B[0;34m)\u001B[0m\u001B[0;34m\u001B[0m\u001B[0;34m\u001B[0m\u001B[0m\n\u001B[0m\u001B[1;32m     29\u001B[0m         \u001B[0;32mfor\u001B[0m \u001B[0mi\u001B[0m \u001B[0;32min\u001B[0m \u001B[0mrange\u001B[0m\u001B[0;34m(\u001B[0m\u001B[0;36m1\u001B[0m\u001B[0;34m,\u001B[0m \u001B[0mlen\u001B[0m\u001B[0;34m(\u001B[0m\u001B[0mt\u001B[0m\u001B[0;34m)\u001B[0m\u001B[0;34m)\u001B[0m\u001B[0;34m:\u001B[0m\u001B[0;34m\u001B[0m\u001B[0;34m\u001B[0m\u001B[0m\n\u001B[1;32m     30\u001B[0m             \u001B[0msolution\u001B[0m\u001B[0;34m[\u001B[0m\u001B[0mi\u001B[0m\u001B[0;34m]\u001B[0m \u001B[0;34m=\u001B[0m \u001B[0mself\u001B[0m\u001B[0;34m.\u001B[0m\u001B[0m_advance\u001B[0m\u001B[0;34m(\u001B[0m\u001B[0mt\u001B[0m\u001B[0;34m[\u001B[0m\u001B[0mi\u001B[0m\u001B[0;34m]\u001B[0m\u001B[0;34m)\u001B[0m\u001B[0;34m\u001B[0m\u001B[0;34m\u001B[0m\u001B[0m\n",
      "\u001B[0;32m~/PhD_code/learn_observe_KKL/venv/lib/python3.9/site-packages/torchdiffeq/_impl/rk_common.py\u001B[0m in \u001B[0;36m_before_integrate\u001B[0;34m(self, t)\u001B[0m\n\u001B[1;32m    159\u001B[0m     \u001B[0;32mdef\u001B[0m \u001B[0m_before_integrate\u001B[0m\u001B[0;34m(\u001B[0m\u001B[0mself\u001B[0m\u001B[0;34m,\u001B[0m \u001B[0mt\u001B[0m\u001B[0;34m)\u001B[0m\u001B[0;34m:\u001B[0m\u001B[0;34m\u001B[0m\u001B[0;34m\u001B[0m\u001B[0m\n\u001B[1;32m    160\u001B[0m         \u001B[0mt0\u001B[0m \u001B[0;34m=\u001B[0m \u001B[0mt\u001B[0m\u001B[0;34m[\u001B[0m\u001B[0;36m0\u001B[0m\u001B[0;34m]\u001B[0m\u001B[0;34m\u001B[0m\u001B[0;34m\u001B[0m\u001B[0m\n\u001B[0;32m--> 161\u001B[0;31m         \u001B[0mf0\u001B[0m \u001B[0;34m=\u001B[0m \u001B[0mself\u001B[0m\u001B[0;34m.\u001B[0m\u001B[0mfunc\u001B[0m\u001B[0;34m(\u001B[0m\u001B[0mt\u001B[0m\u001B[0;34m[\u001B[0m\u001B[0;36m0\u001B[0m\u001B[0;34m]\u001B[0m\u001B[0;34m,\u001B[0m \u001B[0mself\u001B[0m\u001B[0;34m.\u001B[0m\u001B[0my0\u001B[0m\u001B[0;34m)\u001B[0m\u001B[0;34m\u001B[0m\u001B[0;34m\u001B[0m\u001B[0m\n\u001B[0m\u001B[1;32m    162\u001B[0m         \u001B[0;32mif\u001B[0m \u001B[0mself\u001B[0m\u001B[0;34m.\u001B[0m\u001B[0mfirst_step\u001B[0m \u001B[0;32mis\u001B[0m \u001B[0;32mNone\u001B[0m\u001B[0;34m:\u001B[0m\u001B[0;34m\u001B[0m\u001B[0;34m\u001B[0m\u001B[0m\n\u001B[1;32m    163\u001B[0m             first_step = _select_initial_step(self.func, t[0], self.y0, self.order - 1, self.rtol, self.atol,\n",
      "\u001B[0;32m~/PhD_code/learn_observe_KKL/venv/lib/python3.9/site-packages/torch/nn/modules/module.py\u001B[0m in \u001B[0;36m_call_impl\u001B[0;34m(self, *input, **kwargs)\u001B[0m\n\u001B[1;32m   1049\u001B[0m         if not (self._backward_hooks or self._forward_hooks or self._forward_pre_hooks or _global_backward_hooks\n\u001B[1;32m   1050\u001B[0m                 or _global_forward_hooks or _global_forward_pre_hooks):\n\u001B[0;32m-> 1051\u001B[0;31m             \u001B[0;32mreturn\u001B[0m \u001B[0mforward_call\u001B[0m\u001B[0;34m(\u001B[0m\u001B[0;34m*\u001B[0m\u001B[0minput\u001B[0m\u001B[0;34m,\u001B[0m \u001B[0;34m**\u001B[0m\u001B[0mkwargs\u001B[0m\u001B[0;34m)\u001B[0m\u001B[0;34m\u001B[0m\u001B[0;34m\u001B[0m\u001B[0m\n\u001B[0m\u001B[1;32m   1052\u001B[0m         \u001B[0;31m# Do not call functions when jit is used\u001B[0m\u001B[0;34m\u001B[0m\u001B[0;34m\u001B[0m\u001B[0;34m\u001B[0m\u001B[0m\n\u001B[1;32m   1053\u001B[0m         \u001B[0mfull_backward_hooks\u001B[0m\u001B[0;34m,\u001B[0m \u001B[0mnon_full_backward_hooks\u001B[0m \u001B[0;34m=\u001B[0m \u001B[0;34m[\u001B[0m\u001B[0;34m]\u001B[0m\u001B[0;34m,\u001B[0m \u001B[0;34m[\u001B[0m\u001B[0;34m]\u001B[0m\u001B[0;34m\u001B[0m\u001B[0;34m\u001B[0m\u001B[0m\n",
      "\u001B[0;32m~/PhD_code/learn_observe_KKL/venv/lib/python3.9/site-packages/torchdiffeq/_impl/misc.py\u001B[0m in \u001B[0;36mforward\u001B[0;34m(self, t, y, perturb)\u001B[0m\n\u001B[1;32m    187\u001B[0m             \u001B[0;31m# Do nothing.\u001B[0m\u001B[0;34m\u001B[0m\u001B[0;34m\u001B[0m\u001B[0;34m\u001B[0m\u001B[0m\n\u001B[1;32m    188\u001B[0m             \u001B[0;32mpass\u001B[0m\u001B[0;34m\u001B[0m\u001B[0;34m\u001B[0m\u001B[0m\n\u001B[0;32m--> 189\u001B[0;31m         \u001B[0;32mreturn\u001B[0m \u001B[0mself\u001B[0m\u001B[0;34m.\u001B[0m\u001B[0mbase_func\u001B[0m\u001B[0;34m(\u001B[0m\u001B[0mt\u001B[0m\u001B[0;34m,\u001B[0m \u001B[0my\u001B[0m\u001B[0;34m)\u001B[0m\u001B[0;34m\u001B[0m\u001B[0;34m\u001B[0m\u001B[0m\n\u001B[0m\u001B[1;32m    190\u001B[0m \u001B[0;34m\u001B[0m\u001B[0m\n\u001B[1;32m    191\u001B[0m \u001B[0;34m\u001B[0m\u001B[0m\n",
      "\u001B[0;32m~/PhD_code/learn_observe_KKL/src/learn_KKL/system.py\u001B[0m in \u001B[0;36mdxdt\u001B[0;34m(t, x)\u001B[0m\n\u001B[1;32m    197\u001B[0m \u001B[0;34m\u001B[0m\u001B[0m\n\u001B[1;32m    198\u001B[0m         \u001B[0;32mdef\u001B[0m \u001B[0mdxdt\u001B[0m\u001B[0;34m(\u001B[0m\u001B[0mt\u001B[0m\u001B[0;34m,\u001B[0m \u001B[0mx\u001B[0m\u001B[0;34m)\u001B[0m\u001B[0;34m:\u001B[0m\u001B[0;34m\u001B[0m\u001B[0;34m\u001B[0m\u001B[0m\n\u001B[0;32m--> 199\u001B[0;31m             \u001B[0mx_dot\u001B[0m \u001B[0;34m=\u001B[0m \u001B[0mself\u001B[0m\u001B[0;34m.\u001B[0m\u001B[0mf\u001B[0m\u001B[0;34m(\u001B[0m\u001B[0mx\u001B[0m\u001B[0;34m)\u001B[0m \u001B[0;34m+\u001B[0m \u001B[0mself\u001B[0m\u001B[0;34m.\u001B[0m\u001B[0mg\u001B[0m\u001B[0;34m(\u001B[0m\u001B[0mx\u001B[0m\u001B[0;34m)\u001B[0m \u001B[0;34m*\u001B[0m \u001B[0mself\u001B[0m\u001B[0;34m.\u001B[0m\u001B[0mu\u001B[0m\u001B[0;34m(\u001B[0m\u001B[0mt\u001B[0m\u001B[0;34m)\u001B[0m\u001B[0;34m\u001B[0m\u001B[0;34m\u001B[0m\u001B[0m\n\u001B[0m\u001B[1;32m    200\u001B[0m             \u001B[0;32mreturn\u001B[0m \u001B[0mx_dot\u001B[0m\u001B[0;34m\u001B[0m\u001B[0;34m\u001B[0m\u001B[0m\n\u001B[1;32m    201\u001B[0m \u001B[0;34m\u001B[0m\u001B[0m\n",
      "\u001B[0;32m~/PhD_code/learn_observe_KKL/src/learn_KKL/system.py\u001B[0m in \u001B[0;36mf\u001B[0;34m(self, x)\u001B[0m\n\u001B[1;32m    340\u001B[0m         \u001B[0;31m# return torch.cat((x_0, x_1), 0)\u001B[0m\u001B[0;34m\u001B[0m\u001B[0;34m\u001B[0m\u001B[0;34m\u001B[0m\u001B[0m\n\u001B[1;32m    341\u001B[0m         \u001B[0mxdot\u001B[0m \u001B[0;34m=\u001B[0m \u001B[0mtorch\u001B[0m\u001B[0;34m.\u001B[0m\u001B[0mzeros_like\u001B[0m\u001B[0;34m(\u001B[0m\u001B[0mx\u001B[0m\u001B[0;34m)\u001B[0m\u001B[0;34m\u001B[0m\u001B[0;34m\u001B[0m\u001B[0m\n\u001B[0;32m--> 342\u001B[0;31m         \u001B[0mxdot\u001B[0m\u001B[0;34m[\u001B[0m\u001B[0;34m...\u001B[0m\u001B[0;34m,\u001B[0m \u001B[0;36m0\u001B[0m\u001B[0;34m]\u001B[0m \u001B[0;34m=\u001B[0m \u001B[0mtorch\u001B[0m\u001B[0;34m.\u001B[0m\u001B[0mpow\u001B[0m\u001B[0;34m(\u001B[0m\u001B[0mx\u001B[0m\u001B[0;34m[\u001B[0m\u001B[0;34m...\u001B[0m\u001B[0;34m,\u001B[0m \u001B[0;36m1\u001B[0m\u001B[0;34m]\u001B[0m\u001B[0;34m,\u001B[0m \u001B[0;36m3\u001B[0m\u001B[0;34m)\u001B[0m\u001B[0;34m\u001B[0m\u001B[0;34m\u001B[0m\u001B[0m\n\u001B[0m\u001B[1;32m    343\u001B[0m         \u001B[0mxdot\u001B[0m\u001B[0;34m[\u001B[0m\u001B[0;34m...\u001B[0m\u001B[0;34m,\u001B[0m \u001B[0;36m1\u001B[0m\u001B[0;34m]\u001B[0m \u001B[0;34m=\u001B[0m \u001B[0;34m-\u001B[0m\u001B[0mx\u001B[0m\u001B[0;34m[\u001B[0m\u001B[0;34m...\u001B[0m\u001B[0;34m,\u001B[0m \u001B[0;36m0\u001B[0m\u001B[0;34m]\u001B[0m\u001B[0;34m\u001B[0m\u001B[0;34m\u001B[0m\u001B[0m\n\u001B[1;32m    344\u001B[0m         \u001B[0;32mreturn\u001B[0m \u001B[0mxdot\u001B[0m\u001B[0;34m\u001B[0m\u001B[0;34m\u001B[0m\u001B[0m\n",
      "\u001B[0;31mIndexError\u001B[0m: index 1 is out of bounds for dimension 1 with size 1"
     ]
    }
   ],
   "source": [
    "# Simulate one test trajectory\n",
    "import torch \n",
    "tsim = (0, 60)\n",
    "dt = 1e-2\n",
    "tq, simulation = system.simulate(torch.tensor([[0.5],[0.5]]), tsim, dt)\n",
    "measurement = observer.h(simulation[:, :observer.dim_x, 0].T).T\n",
    "y = torch.cat((tq.unsqueeze(1), measurement), dim=1)\n",
    "\n",
    "# Predict from measurement\n",
    "estimation = observer.predict(y, tsim, dt)"
   ]
  },
  {
   "cell_type": "code",
   "execution_count": null,
   "metadata": {},
   "outputs": [],
   "source": [
    "# Plot ground truth and state estimation\n",
    "import matplotlib.pyplot as plt\n",
    "for i in range(simulation.shape[1]):\n",
    "        plt.plot(tq, simulation[:, i, 0], label=rf'$x_{i+1}$')\n",
    "        plt.plot(tq, estimation[:, i].detach().numpy(),\n",
    "                 label=rf'$\\hat{{x}}_{i+1}$')\n",
    "        plt.legend()\n",
    "        plt.show()"
   ]
  },
  {
   "cell_type": "code",
   "execution_count": null,
   "metadata": {
    "pycharm": {
     "name": "#%%\n"
    }
   },
   "outputs": [],
   "source": [
    "\n",
    "# Extra tests\n",
    "import os\n",
    "from smt.sampling_methods import LHS\n",
    "from learn_KKL.utils import RMSE, StandardScaler\n",
    "num_samples = 50000\n",
    "sampling = LHS(xlimits=np.array([[-2.5, 2.5], [-2.5, 2.5]]))\n",
    "mesh = torch.as_tensor(sampling(num_samples))\n",
    "_, mesh_hat = learner.model('Autoencoder', mesh)\n",
    "error = RMSE(mesh, mesh_hat, dim=1)\n",
    "for i in range(1, mesh.shape[1]):\n",
    "    name = 'Invertibility_heatmap' + str(i) + '.pdf'\n",
    "    plt.scatter(mesh[:, i - 1], mesh[:, i], cmap='jet',\n",
    "                c=np.log(error.detach().numpy()))\n",
    "    cbar = plt.colorbar()\n",
    "    cbar.set_label('Log estimation error')\n",
    "    plt.title('Log of RMSE between ' + r'$x$' + ' and '\n",
    "              + r'$\\hat{'r'x}$')\n",
    "    plt.xlabel(rf'$x_{i}$')\n",
    "    plt.ylabel(rf'$x_{i + 1}$')\n",
    "    plt.legend()\n",
    "    plt.show()"
   ]
  },
  {
   "cell_type": "code",
   "execution_count": null,
   "outputs": [],
   "source": [
    "import dill as pkl\n",
    "from learn_KKL.utils import generate_mesh\n",
    "system = RevDuffing()\n",
    "data = generate_mesh(np.array([[-1., 1.], [-1., 1.]]), 72000)\n",
    "data, val_data = train_test_split(data, test_size=0.3, shuffle=True)\n",
    "# Train using pytorch-lightning and the learner class\n",
    "# Options for training\n",
    "observer = pkl.load(open('runs/RevDuffing/Autoencoder/Base_case/N=72000/wc=1/exp_19/model.pkl', 'rb'))\n",
    "trainer_options={'max_epochs': 15}\n",
    "optimizer_options = {'weight_decay': 1e-6}\n",
    "scheduler_options = {'mode': 'min', 'factor': 0.1, 'patience': 3,\n",
    "                     'threshold': 5e-4, 'verbose': True}\n",
    "stopper = pl.callbacks.early_stopping.EarlyStopping(\n",
    "    monitor='val_loss', min_delta=5e-4, patience=3, verbose=False, mode='min')\n",
    "# Instantiate learner\n",
    "learner = Learner(observer=observer, system=system, training_data=data,\n",
    "                  validation_data=val_data, method='Autoencoder',\n",
    "                  batch_size=10, lr=5e-4, optimizer=optim.Adam,\n",
    "                  optimizer_options=optimizer_options,\n",
    "                  scheduler=optim.lr_scheduler.ReduceLROnPlateau,\n",
    "                  scheduler_options=scheduler_options)\n",
    "# Define logger and checkpointing\n",
    "logger = TensorBoardLogger(save_dir=learner.results_folder + '/tb_logs')\n",
    "checkpoint_callback = ModelCheckpoint(monitor='val_loss')\n",
    "trainer = pl.Trainer(\n",
    "    callbacks=[stopper, checkpoint_callback], **trainer_options, logger=logger,\n",
    "    log_every_n_steps=1, check_val_every_n_epoch=3)"
   ],
   "metadata": {
    "collapsed": false,
    "pycharm": {
     "name": "#%%\n"
    }
   }
  },
  {
   "cell_type": "code",
   "execution_count": null,
   "outputs": [],
   "source": [
    "# Loss heatmap\n",
    "import matplotlib.pyplot as plt\n",
    "import time, os\n",
    "losses = []\n",
    "num_samples = 100\n",
    "mesh = learner.model.generate_data_svl(np.array([[-1, 1.], [-1., 1.]]),\n",
    "                                       num_samples, method='uniform')"
   ],
   "metadata": {
    "collapsed": false,
    "pycharm": {
     "name": "#%%\n"
    }
   }
  },
  {
   "cell_type": "code",
   "execution_count": null,
   "outputs": [],
   "source": [
    "print(mesh.shape)\n",
    "plt.scatter(mesh[:, 0], mesh[:, 1])\n",
    "plt.show()"
   ],
   "metadata": {
    "collapsed": false,
    "pycharm": {
     "name": "#%%\n"
    }
   }
  },
  {
   "cell_type": "code",
   "execution_count": null,
   "outputs": [],
   "source": [
    "x_mesh = mesh[:, :learner.model.dim_x]\n",
    "z_mesh = mesh[:, learner.model.dim_x:]\n",
    "z_hat_T, x_hat_AE = learner.model('Autoencoder', x_mesh)\n",
    "x_hat_star = learner.model('T_star', z_mesh)\n",
    "print(z_hat_T.shape, x_hat_AE.shape, x_hat_star.shape)\n",
    "start = time.time()\n",
    "if learner.method == \"Autoencoder\":\n",
    "    # z_hat, x_hat = learner.model(learner.method, x_mesh)\n",
    "    random_idx = np.random.choice(np.arange(num_samples),\n",
    "                                  size=(10000,))\n",
    "    loss, loss1, loss2 = learner.model.loss_autoencoder(\n",
    "        x_mesh[random_idx], x_hat_AE[random_idx],\n",
    "        z_hat_T[random_idx], dim=-1)\n",
    "    losses.append(loss1)\n",
    "    losses.append(loss2)\n",
    "    end = time.time()\n",
    "    print(loss1.shape, loss2.shape, end-start)\n",
    "elif learner.method == \"T_star\":\n",
    "    # x_hat = learner.model(learner.method, z_mesh)\n",
    "    random_idx = np.arange(num_samples)\n",
    "    loss = learner.model.loss_T_star(x_mesh[random_idx],\n",
    "                                  x_hat_star[random_idx], dim=-1)\n",
    "    losses.append(loss)\n",
    "for j in range(len(losses)):\n",
    "    loss = losses[j]\n",
    "    for i in range(1, x_mesh.shape[1]):\n",
    "        name = f'Loss{j+1}_{i-1}.pdf'\n",
    "        plt.scatter(x_mesh[random_idx, i - 1],\n",
    "                    x_mesh[random_idx, i], cmap='jet',\n",
    "                    c=np.log(loss.detach().numpy()))\n",
    "        cbar = plt.colorbar()\n",
    "        cbar.set_label('Log loss')\n",
    "        plt.title('Loss over grid')\n",
    "        plt.xlabel(rf'$x_{i}$')\n",
    "        plt.ylabel(rf'$x_{i + 1}$')\n",
    "        plt.legend()\n",
    "        plt.savefig(os.path.join(learner.results_folder, name),\n",
    "                    bbox_inches='tight')\n",
    "        plt.show()\n",
    "        plt.close('all')"
   ],
   "metadata": {
    "collapsed": false,
    "pycharm": {
     "name": "#%%\n"
    }
   }
  },
  {
   "cell_type": "code",
   "execution_count": null,
   "outputs": [],
   "source": [
    "# Estimation over the test trajectories with T_star\n",
    "# trajs_init = torch.as_tensor(sampling(nb_trajs)).T\n",
    "import dill as pkl\n",
    "import pandas as pd\n",
    "import os\n",
    "import matplotlib.pyplot as plt\n",
    "from learn_KKL.utils import RMSE, generate_mesh\n",
    "model = pkl.load(open('runs/RevDuffing/Autoencoder/exp_0/model.pkl'), 'rb')\n",
    "learner = pkl.load(open('runs/RevDuffing/Autoencoder/exp_0/learner.pkl'), 'rb')"
   ],
   "metadata": {
    "collapsed": false,
    "pycharm": {
     "name": "#%%\n"
    }
   }
  },
  {
   "cell_type": "code",
   "execution_count": null,
   "outputs": [],
   "source": [
    "nb_trajs = 10\n",
    "verbose = True\n",
    "num_samples = 100\n",
    "limits = np.array([[-1.,1], [-1.,1]])\n",
    "tsim=(0, 60)\n",
    "dt=1e-2\n",
    "mesh = learner.model.generate_data_svl(limits, num_samples, method='uniform')\n",
    "print(f'Shape of mesh for evaluation: {mesh.shape}')\n",
    "x_mesh = mesh[:, :learner.model.dim_x]\n",
    "z_mesh = mesh[:, learner.model.dim_x:]\n",
    "x_hat_star = learner.model('T_star', z_mesh)\n",
    "random_idx = np.random.choice(np.arange(num_samples),\n",
    "                              size=(nb_trajs,))\n",
    "trajs_init = x_mesh[random_idx]\n",
    "traj_folder = os.path.join(learner.results_folder, 'Test_trajectories')\n",
    "tq, simulation = learner.system.simulate(trajs_init, tsim, dt)\n",
    "measurement = learner.model.h(simulation)\n",
    "# Save these test trajectories\n",
    "os.makedirs(traj_folder, exist_ok=True)\n",
    "traj_error = 0.\n",
    "for i in range(nb_trajs):\n",
    "    # TODO run predictions in parallel for all test trajectories!!!\n",
    "    # Need to figure out how to interpolate y in parallel for all\n",
    "    # trajectories!!!\n",
    "    y = torch.cat((tq.unsqueeze(1), measurement[:, i]), dim=1)\n",
    "    estimation = learner.model.predict(y, tsim, dt).detach()\n",
    "    traj_error += RMSE(simulation[:, i], estimation)\n",
    "\n",
    "    current_traj_folder = os.path.join(traj_folder, f'Traj_{i}')\n",
    "    os.makedirs(current_traj_folder, exist_ok=True)\n",
    "    filename = f'True_traj_{i}.csv'\n",
    "    file = pd.DataFrame(simulation[:, i].cpu().numpy())\n",
    "    file.to_csv(os.path.join(current_traj_folder, filename),\n",
    "                header=False)\n",
    "    filename = f'Estimated_traj_{i}.csv'\n",
    "    file = pd.DataFrame(estimation.cpu().numpy())\n",
    "    file.to_csv(os.path.join(current_traj_folder, filename),\n",
    "                header=False)\n",
    "    for j in range(estimation.shape[1]):\n",
    "        name = 'Traj' + str(j) + '.pdf'\n",
    "        plt.plot(tq, simulation[:, i, j].detach().numpy(),\n",
    "                 label=rf'$x_{j + 1}$')\n",
    "        plt.plot(tq, estimation[:, j].detach().numpy(),\n",
    "                 label=rf'$\\hat{{x}}_{j + 1}$')\n",
    "        plt.legend()\n",
    "        plt.xlabel(rf'$t$')\n",
    "        plt.ylabel(rf'$x_{j + 1}$')\n",
    "        plt.savefig(os.path.join(current_traj_folder, name),\n",
    "                    bbox_inches='tight')\n",
    "        if verbose:\n",
    "            plt.show()\n",
    "        plt.close('all')\n",
    "filename = 'RMSE_traj.txt'\n",
    "with open(os.path.join(traj_folder, filename), 'w') as f:\n",
    "    print(traj_error, file=f)\n",
    "\n",
    "# Invertibility heatmap\n",
    "z_hat_T, x_hat_AE = learner.model('Autoencoder', x_mesh)\n",
    "error = RMSE(x_mesh, x_hat_AE, dim=1)\n",
    "for i in range(1, x_mesh.shape[1]):\n",
    "    name = 'Invertibility_heatmap' + str(i) + '.pdf'\n",
    "    plt.scatter(x_mesh[:, i - 1], x_mesh[:, i], cmap='jet',\n",
    "                c=np.log(error.detach().numpy()))\n",
    "    cbar = plt.colorbar()\n",
    "    cbar.set_label('Log estimation error')\n",
    "    plt.title(r'RMSE between $x$ and $T^*(T(x))$')\n",
    "    plt.xlabel(rf'$x_{i}$')\n",
    "    plt.ylabel(rf'$x_{i + 1}$')\n",
    "    plt.legend()\n",
    "    plt.savefig(os.path.join(learner.results_folder, name),\n",
    "                bbox_inches='tight')\n",
    "    if verbose:\n",
    "        plt.show()\n",
    "    plt.close('all')"
   ],
   "metadata": {
    "collapsed": false,
    "pycharm": {
     "name": "#%%\n"
    }
   }
  },
  {
   "cell_type": "code",
   "execution_count": null,
   "outputs": [],
   "source": [
    "# Loss heatmap\n",
    "losses = []\n",
    "if learner.method == \"Autoencoder\":\n",
    "    # z_hat, x_hat = learner.model(learner.method, x_mesh)\n",
    "    # random_idx = np.random.choice(np.arange(num_samples),\n",
    "    #                               size=(5000,))\n",
    "    random_idx = np.arange(len(x_mesh))\n",
    "    loss, loss1, loss2 = learner.model.loss_autoencoder(\n",
    "        x_mesh[random_idx], x_hat_AE[random_idx],\n",
    "        z_hat_T[random_idx], dim=-1)\n",
    "    losses.append(loss1)\n",
    "    losses.append(loss2)\n",
    "elif learner.method == \"T_star\":\n",
    "    # x_hat = learner.model(learner.method, z_mesh)\n",
    "    random_idx = np.arange(num_samples)\n",
    "    loss = learner.model.loss_T_star(x_mesh[random_idx],\n",
    "                                  x_hat_star[random_idx], dim=-1)\n",
    "    losses.append(loss)\n",
    "print(loss1.shape, loss2.shape, x_mesh.shape)\n",
    "for j in range(len(losses)):\n",
    "    loss = losses[j]\n",
    "    for i in range(1, x_mesh.shape[1]):\n",
    "        name = f'Loss{j+1}_{i-1}.pdf'\n",
    "        plt.scatter(x_mesh[random_idx, i - 1],\n",
    "                    x_mesh[random_idx, i], cmap='jet',\n",
    "                    c=np.log(loss.detach().numpy()))\n",
    "        cbar = plt.colorbar()\n",
    "        cbar.set_label('Log loss')\n",
    "        plt.title('Loss over grid')\n",
    "        plt.xlabel(rf'$x_{i}$')\n",
    "        plt.ylabel(rf'$x_{i + 1}$')\n",
    "        plt.legend()\n",
    "        plt.savefig(os.path.join(learner.results_folder, name),\n",
    "                    bbox_inches='tight')\n",
    "        if verbose:\n",
    "            plt.show()\n",
    "        plt.close('all')"
   ],
   "metadata": {
    "collapsed": false,
    "pycharm": {
     "name": "#%%\n"
    }
   }
  }
 ],
 "metadata": {
  "interpreter": {
   "hash": "876800e5f4140bb8c9eb7cb3630e01ad622f0981781552d39a63585948556d04"
  },
  "kernelspec": {
   "display_name": "Python 3 (ipykernel)",
   "language": "python",
   "name": "python3"
  },
  "language_info": {
   "codemirror_mode": {
    "name": "ipython",
    "version": 3
   },
   "file_extension": ".py",
   "mimetype": "text/x-python",
   "name": "python",
   "nbconvert_exporter": "python",
   "pygments_lexer": "ipython3",
   "version": "3.9.6"
  }
 },
 "nbformat": 4,
 "nbformat_minor": 2
}