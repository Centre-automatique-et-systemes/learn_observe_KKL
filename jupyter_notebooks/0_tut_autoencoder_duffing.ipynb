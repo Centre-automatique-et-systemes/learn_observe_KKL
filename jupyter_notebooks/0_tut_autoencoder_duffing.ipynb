{
 "cells": [
  {
   "cell_type": "code",
   "execution_count": null,
   "metadata": {},
   "outputs": [],
   "source": [
    "!pip3 install git+https://github.com/Centre-automatique-et-systemes/learn_observe_KKL.git gwpy &> /dev/null\n",
    "!pip3 install git+https://github.com/aliutkus/torchinterp1d.git gwpy &> /dev/null\n"
   ]
  },
  {
   "cell_type": "code",
   "execution_count": 1,
   "metadata": {},
   "outputs": [],
   "source": [
    "import sys ; sys.path.append('../')\n",
    "import torch.optim as optim\n",
    "import torch\n",
    "import seaborn as sb\n",
    "import pytorch_lightning as pl\n",
    "import numpy as np\n",
    "\n",
    "from sklearn.model_selection import train_test_split\n",
    "from pytorch_lightning.loggers import TensorBoardLogger\n",
    "from pytorch_lightning.callbacks import ModelCheckpoint\n",
    "\n",
    "from learn_KKL.luenberger_observer import LuenbergerObserver\n",
    "from learn_KKL.system import RevDuffing\n",
    "from learn_KKL.learner import Learner\n",
    "\n",
    "sb.set_style('whitegrid')"
   ]
  },
  {
   "cell_type": "code",
   "execution_count": 2,
   "metadata": {},
   "outputs": [
    {
     "name": "stderr",
     "output_type": "stream",
     "text": [
      "GPU available: False, used: False\n",
      "TPU available: False, using: 0 TPU cores\n",
      "IPU available: False, using: 0 IPUs\n"
     ]
    },
    {
     "name": "stdout",
     "output_type": "stream",
     "text": [
      "Results saved in in /Users/mona/PhD_code/learn_observe_KKL/src/jupyter_notebooks/runs/RevDuffing/Autoencoder/exp_18\n"
     ]
    }
   ],
   "source": [
    "# Generate the data\n",
    "system = RevDuffing()\n",
    "data = system.generate_mesh(np.array([[-1., 1.], [-1., 1.]]), 72000)\n",
    "data, val_data = train_test_split(data, test_size=0.3, shuffle=True)\n",
    "\n",
    "# Create the observer (autoencoder design\n",
    "observer = LuenbergerObserver(dim_x=2, dim_y=1, method=\"Autoencoder\")\n",
    "observer.set_dynamics(system)\n",
    "\n",
    "# Train using pytorch-lightning and the learner class\n",
    "# Options for training\n",
    "trainer_options={'max_epochs': 2}\n",
    "optimizer_options = {'weight_decay': 1e-6}\n",
    "scheduler_options = {'mode': 'min', 'factor': 0.1, 'patience': 3,\n",
    "                     'threshold': 5e-4, 'verbose': True}\n",
    "stopper = pl.callbacks.early_stopping.EarlyStopping(\n",
    "    monitor='val_loss', min_delta=5e-4, patience=3, verbose=False, mode='min')\n",
    "# Instantiate learner\n",
    "learner = Learner(observer=observer, system=system, training_data=data,\n",
    "                  validation_data=val_data, method='Autoencoder',\n",
    "                  batch_size=10, lr=5e-4, optimizer=optim.Adam,\n",
    "                  optimizer_options=optimizer_options,\n",
    "                  scheduler=optim.lr_scheduler.ReduceLROnPlateau,\n",
    "                  scheduler_options=scheduler_options)\n",
    "# Define logger and checkpointing\n",
    "logger = TensorBoardLogger(save_dir=learner.results_folder + '/tb_logs')\n",
    "checkpoint_callback = ModelCheckpoint(monitor='val_loss')\n",
    "trainer = pl.Trainer(\n",
    "    callbacks=[stopper, checkpoint_callback], **trainer_options, logger=logger,\n",
    "    log_every_n_steps=1, check_val_every_n_epoch=3)\n"
   ]
  },
  {
   "cell_type": "code",
   "execution_count": null,
   "metadata": {
    "pycharm": {
     "name": "#%%\n",
     "is_executing": true
    }
   },
   "outputs": [
    {
     "name": "stderr",
     "output_type": "stream",
     "text": [
      "\n",
      "  | Name  | Type               | Params\n",
      "---------------------------------------------\n",
      "0 | model | LuenbergerObserver | 26.1 K\n",
      "---------------------------------------------\n",
      "26.1 K    Trainable params\n",
      "0         Non-trainable params\n",
      "26.1 K    Total params\n",
      "0.104     Total estimated model params size (MB)\n"
     ]
    },
    {
     "name": "stdout",
     "output_type": "stream",
     "text": [
      "Logs stored in /Users/mona/PhD_code/learn_observe_KKL/src/jupyter_notebooks/runs/RevDuffing/Autoencoder/exp_18/tb_logs\n"
     ]
    },
    {
     "data": {
      "text/plain": "Validation sanity check: 0it [00:00, ?it/s]",
      "application/vnd.jupyter.widget-view+json": {
       "version_major": 2,
       "version_minor": 0,
       "model_id": "28e8da6fa1bd45aa91874c66134f71d8"
      }
     },
     "metadata": {},
     "output_type": "display_data"
    },
    {
     "name": "stderr",
     "output_type": "stream",
     "text": [
      "/Users/mona/PhD_code/learn_observe_KKL/venv/lib/python3.9/site-packages/pytorch_lightning/trainer/data_loading.py:372: UserWarning: Your val_dataloader has `shuffle=True`, it is best practice to turn this off for val/test/predict dataloaders.\n",
      "  rank_zero_warn(\n",
      "/Users/mona/PhD_code/learn_observe_KKL/venv/lib/python3.9/site-packages/pytorch_lightning/trainer/data_loading.py:105: UserWarning: The dataloader, val dataloader 0, does not have many workers which may be a bottleneck. Consider increasing the value of the `num_workers` argument` (try 16 which is the number of cpus on this machine) in the `DataLoader` init to improve performance.\n",
      "  rank_zero_warn(\n",
      "/Users/mona/PhD_code/learn_observe_KKL/venv/lib/python3.9/site-packages/pytorch_lightning/trainer/data_loading.py:105: UserWarning: The dataloader, train dataloader, does not have many workers which may be a bottleneck. Consider increasing the value of the `num_workers` argument` (try 16 which is the number of cpus on this machine) in the `DataLoader` init to improve performance.\n",
      "  rank_zero_warn(\n"
     ]
    },
    {
     "data": {
      "text/plain": "Training: -1it [00:00, ?it/s]",
      "application/vnd.jupyter.widget-view+json": {
       "version_major": 2,
       "version_minor": 0,
       "model_id": "82fef4a3bc7440a78e3d92815002a354"
      }
     },
     "metadata": {},
     "output_type": "display_data"
    }
   ],
   "source": [
    "# To see logger in tensorboard, copy the following output name_of_folder\n",
    "print(f'Logs stored in {learner.results_folder}/tb_logs')\n",
    "# which should be similar to jupyter_notebooks/runs/method/exp_0/tb_logs/\n",
    "# Then type this in terminal:\n",
    "# tensorboard --logdir=name_of_folder --port=8080\n",
    "\n",
    "# Train and save results\n",
    "trainer.fit(learner)\n",
    "learner.save_results(limits=np.array([[-1, 1.], [-1., 1.]]), nb_trajs=10,\n",
    "                     tsim=(0, 60), dt=1e-2,\n",
    "                     checkpoint_path=checkpoint_callback.best_model_path)"
   ]
  },
  {
   "cell_type": "code",
   "execution_count": null,
   "metadata": {
    "pycharm": {
     "is_executing": true
    }
   },
   "outputs": [],
   "source": [
    "# Simulate one test trajectory\n",
    "import torch \n",
    "tsim = (0, 60)\n",
    "dt = 1e-2\n",
    "tq, simulation = system.simulate(torch.tensor([[0.5],[0.5]]), tsim, dt)\n",
    "measurement = observer.h(simulation[:, :observer.dim_x, 0].T).T\n",
    "y = torch.cat((tq.unsqueeze(1), measurement), dim=1)\n",
    "\n",
    "# Predict from measurement\n",
    "estimation = observer.predict(y, tsim, dt)"
   ]
  },
  {
   "cell_type": "code",
   "execution_count": null,
   "metadata": {
    "pycharm": {
     "is_executing": true
    }
   },
   "outputs": [],
   "source": [
    "# Plot ground truth and state estimation\n",
    "import matplotlib.pyplot as plt\n",
    "for i in range(simulation.shape[1]):\n",
    "        plt.plot(tq, simulation[:, i, 0], label=rf'$x_{i+1}$')\n",
    "        plt.plot(tq, estimation[:, i].detach().numpy(),\n",
    "                 label=rf'$\\hat{{x}}_{i+1}$')\n",
    "        plt.legend()\n",
    "        plt.show()"
   ]
  },
  {
   "cell_type": "code",
   "execution_count": null,
   "metadata": {
    "pycharm": {
     "name": "#%%\n",
     "is_executing": true
    }
   },
   "outputs": [],
   "source": [
    "\n",
    "# Extra tests\n",
    "import os\n",
    "from smt.sampling_methods import LHS\n",
    "from learn_KKL.utils import RMSE, StandardScaler\n",
    "num_samples = 50000\n",
    "sampling = LHS(xlimits=np.array([[-2.5, 2.5], [-2.5, 2.5]]))\n",
    "mesh = torch.as_tensor(sampling(num_samples))\n",
    "_, mesh_hat = learner.model('Autoencoder', mesh)\n",
    "error = RMSE(mesh, mesh_hat, dim=1)\n",
    "for i in range(1, mesh.shape[1]):\n",
    "    name = 'Invertibility_heatmap' + str(i) + '.pdf'\n",
    "    plt.scatter(mesh[:, i - 1], mesh[:, i], cmap='jet',\n",
    "                c=np.log(error.detach().numpy()))\n",
    "    cbar = plt.colorbar()\n",
    "    cbar.set_label('Log estimation error')\n",
    "    plt.title('Log of RMSE between ' + r'$x$' + ' and '\n",
    "              + r'$\\hat{'r'x}$')\n",
    "    plt.xlabel(rf'$x_{i}$')\n",
    "    plt.ylabel(rf'$x_{i + 1}$')\n",
    "    plt.legend()\n",
    "    plt.show()"
   ]
  },
  {
   "cell_type": "code",
   "execution_count": null,
   "outputs": [],
   "source": [
    "num_samples = 10000\n",
    "sampling = LHS(xlimits=np.array([[-1., 1.], [-1., 1.]]))\n",
    "mesh = torch.as_tensor(sampling(num_samples))\n",
    "x = mesh[:, :learner.model.dim_x]\n",
    "z = mesh[:, learner.model.dim_x:]\n",
    "z_hat, x_hat = learner.model('Autoencoder', mesh)\n",
    "# loss, loss1, loss2 = learner.model.loss(learner.method, mesh, x_hat, z_hat)\n",
    "from learn_KKL.utils import RMSE\n",
    "loss_1 = learner.model.recon_lambda * RMSE(x, x_hat, dim=1)\n",
    "# Compute gradients of T_u with respect to inputs\n",
    "dTdh = torch.autograd.functional.jacobian(\n",
    "    learner.model.encoder, x, create_graph=False, strict=False, vectorize=False)\n",
    "dTdx = torch.zeros((num_samples, learner.model.dim_z, learner.model.dim_x))\n",
    "for i in range(dTdh.shape[0]):\n",
    "    for j in range(dTdh.shape[1]):\n",
    "        dTdx[i, j, :] = dTdh[i, j, i, :]\n",
    "# lhs = dTdx * f(x)\n",
    "lhs = torch.zeros((learner.model.dim_z, num_samples))\n",
    "for i in range(num_samples):\n",
    "    lhs[:, i] = torch.matmul(dTdx[i], learner.model.f(x.T).T[i]).T\n",
    "# rhs = D * z + F * h(x)\n",
    "D = learner.model.D\n",
    "F = learner.model.F\n",
    "h_x = learner.model.h(x.T)\n",
    "rhs = torch.matmul(D, z_hat.T) + torch.matmul(F, h_x)\n",
    "# PDE loss MSE(lhs, rhs)\n",
    "print(lhs.shape, rhs.shape)\n",
    "loss_2 = RMSE(lhs, rhs, dim=1)"
   ],
   "metadata": {
    "collapsed": false,
    "pycharm": {
     "name": "#%%\n",
     "is_executing": true
    }
   }
  },
  {
   "cell_type": "code",
   "execution_count": null,
   "outputs": [],
   "source": [
    "loss_2 = RMSE(lhs, rhs, dim=0)\n",
    "print(loss_2.shape, loss_1.shape)\n",
    "print(x.shape, z.shape)\n",
    "for i in range(1, x.shape[1]):\n",
    "    name = r'$Loss_1$' + str(i) + '.pdf'\n",
    "    plt.scatter(x[:, i - 1], x[:, i], cmap='jet',\n",
    "                c=np.log(loss_1.detach().numpy()))\n",
    "    cbar = plt.colorbar()\n",
    "    cbar.set_label('Log loss')\n",
    "    plt.title('Log of invertibility loss')\n",
    "    plt.xlabel(rf'$x_{i}$')\n",
    "    plt.ylabel(rf'$x_{i + 1}$')\n",
    "    plt.legend()\n",
    "    plt.show()\n",
    "for i in range(1, x.shape[1]):\n",
    "    name = r'$Loss_2$' + str(i) + '.pdf'\n",
    "    plt.scatter(x[:, i - 1], x[:, i], cmap='jet',\n",
    "                c=np.log(loss_2.detach().numpy()))\n",
    "    cbar = plt.colorbar()\n",
    "    cbar.set_label('Log loss')\n",
    "    plt.title('Log of PDE loss')\n",
    "    plt.xlabel(rf'$x_{i}$')\n",
    "    plt.ylabel(rf'$x_{i + 1}$')\n",
    "    plt.legend()\n",
    "    plt.show()"
   ],
   "metadata": {
    "collapsed": false,
    "pycharm": {
     "name": "#%%\n",
     "is_executing": true
    }
   }
  }
 ],
 "metadata": {
  "interpreter": {
   "hash": "876800e5f4140bb8c9eb7cb3630e01ad622f0981781552d39a63585948556d04"
  },
  "kernelspec": {
   "display_name": "Python 3 (ipykernel)",
   "language": "python",
   "name": "python3"
  },
  "language_info": {
   "codemirror_mode": {
    "name": "ipython",
    "version": 3
   },
   "file_extension": ".py",
   "mimetype": "text/x-python",
   "name": "python",
   "nbconvert_exporter": "python",
   "pygments_lexer": "ipython3",
   "version": "3.9.6"
  }
 },
 "nbformat": 4,
 "nbformat_minor": 2
}