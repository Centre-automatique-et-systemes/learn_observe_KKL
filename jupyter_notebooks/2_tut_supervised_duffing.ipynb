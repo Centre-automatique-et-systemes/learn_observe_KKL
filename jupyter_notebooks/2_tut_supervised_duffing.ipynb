{
 "metadata": {
  "language_info": {
   "codemirror_mode": {
    "name": "ipython",
    "version": 3
   },
   "file_extension": ".py",
   "mimetype": "text/x-python",
   "name": "python",
   "nbconvert_exporter": "python",
   "pygments_lexer": "ipython3",
   "version": "3.8.8"
  },
  "orig_nbformat": 4,
  "kernelspec": {
   "name": "python3",
   "display_name": "Python 3.8.8 64-bit ('cas': conda)"
  },
  "interpreter": {
   "hash": "876800e5f4140bb8c9eb7cb3630e01ad622f0981781552d39a63585948556d04"
  }
 },
 "nbformat": 4,
 "nbformat_minor": 2,
 "cells": [
  {
   "cell_type": "code",
   "execution_count": null,
   "source": [
    "!pip3 install git+https://github.com/Centre-automatique-et-systemes/lena.git gwpy &> /dev/null\n",
    "!pip3 install git+https://github.com/aliutkus/torchinterp1d.git gwpy &> /dev/null"
   ],
   "outputs": [],
   "metadata": {}
  },
  {
   "cell_type": "code",
   "execution_count": null,
   "source": [
    "import sys ; sys.path.append('../')\n",
    "from lena.luenberger_observer import LuenbergerObserver\n",
    "from lena.system import RevDuffing\n",
    "from lena.learner import Learner"
   ],
   "outputs": [],
   "metadata": {}
  },
  {
   "cell_type": "code",
   "execution_count": null,
   "source": [
    "# Set up the system\n",
    "system = RevDuffing()"
   ],
   "outputs": [],
   "metadata": {}
  },
  {
   "cell_type": "code",
   "execution_count": null,
   "source": [
    "# Generate the data\n",
    "T = LuenbergerObserver(dim_x=2, dim_y=1, method=\"Autoencoder\", wc=1.5)\n",
    "T.set_dynamics(system)\n",
    "data = T.generate_data_svl([2.0,2.0], 20000)\n",
    "\n",
    "learner_T = Learner(T, data, True, \"T\")\n",
    "learner_T.train()"
   ],
   "outputs": [],
   "metadata": {}
  },
  {
   "cell_type": "code",
   "execution_count": null,
   "source": [
    "T_star = LuenbergerObserver(2, 1, \"T_star\")\n",
    "T_star.set_dynamics(system)\n",
    "\n",
    "learner_T_star = Learner(T, data, True, \"T_star\")\n",
    "learner_T_star.train()"
   ],
   "outputs": [],
   "metadata": {}
  },
  {
   "cell_type": "code",
   "execution_count": null,
   "source": [
    "import torch \n",
    "tsim = (0, 20)\n",
    "dt = 1e-2\n",
    "tq, simulation = system.simulate(torch.tensor([[1.],[1.]]), tsim, dt)\n",
    "measurement = T_star.h(\n",
    "        simulation[:, :T_star.dim_x, 0].T).T\n",
    "y = torch.cat((tq.unsqueeze(1), measurement), dim=1)\n",
    "\n",
    "# Predict from measurment\n",
    "estimation = T_star.predict(y, tsim, dt)"
   ],
   "outputs": [],
   "metadata": {}
  },
  {
   "cell_type": "code",
   "execution_count": null,
   "source": [
    "import matplotlib.pyplot as plt\n",
    "\n",
    "# Plot truth ground data and estimation\n",
    "plt.plot(tq, simulation[:,:,0])\n",
    "plt.plot(tq, estimation.detach().numpy())\n",
    "plt.show()"
   ],
   "outputs": [],
   "metadata": {}
  }
 ]
}