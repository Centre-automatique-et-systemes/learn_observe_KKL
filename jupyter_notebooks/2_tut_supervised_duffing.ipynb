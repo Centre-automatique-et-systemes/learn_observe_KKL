{
 "cells": [
  {
   "cell_type": "code",
   "execution_count": null,
   "metadata": {},
   "outputs": [],
   "source": [
    "!pip3 install git+https://github.com/Centre-automatique-et-systemes/lena.git gwpy &> /dev/null\n",
    "!pip3 install git+https://github.com/aliutkus/torchinterp1d.git gwpy &> /dev/null"
   ]
  },
  {
   "cell_type": "code",
   "execution_count": 1,
   "metadata": {},
   "outputs": [],
   "source": [
    "import sys ; sys.path.append('../')\n",
    "import torch.optim as optim\n",
    "import torch\n",
    "import seaborn as sb\n",
    "import pytorch_lightning as pl\n",
    "import numpy as np\n",
    "\n",
    "from sklearn.model_selection import train_test_split\n",
    "from pytorch_lightning.loggers import TensorBoardLogger\n",
    "from pytorch_lightning.callbacks import ModelCheckpoint\n",
    "\n",
    "from learn_KKL.luenberger_observer import LuenbergerObserver\n",
    "from learn_KKL.system import RevDuffing\n",
    "from learn_KKL.learner import Learner\n",
    "\n",
    "sb.set_style('whitegrid')"
   ]
  },
  {
   "cell_type": "code",
   "execution_count": 2,
   "metadata": {},
   "outputs": [],
   "source": [
    "# Set up the system\n",
    "system = RevDuffing()"
   ]
  },
  {
   "cell_type": "code",
   "execution_count": 11,
   "metadata": {},
   "outputs": [
    {
     "name": "stderr",
     "output_type": "stream",
     "text": [
      "GPU available: False, used: False\n",
      "TPU available: False, using: 0 TPU cores\n",
      "IPU available: False, using: 0 IPUs\n"
     ]
    },
    {
     "name": "stdout",
     "output_type": "stream",
     "text": [
      "Results saved in in /Users/mona/PhD_code/learn_observe_KKL/src/jupyter_notebooks/runs/RevDuffing/Supervised/T/exp_3\n"
     ]
    }
   ],
   "source": [
    "# Instantiate the observer\n",
    "# D = torch.diag_embed(torch.tensor([-0.9370, -0.9370, -1.1832]))\n",
    "observer = LuenbergerObserver(dim_x=2, dim_y=1, method='Supervised', wc=0.1,\n",
    "                              recon_lambda=0.8, activation=torch.nn.SiLU())\n",
    "observer.set_dynamics(system)\n",
    "# Generate (x_i, z_i) data by running system backward, then system + observer\n",
    "# forward in time\n",
    "data = observer.generate_data_svl(np.array([[-1, 1.], [-1., 1.]]), 10000,\n",
    "                                  method='LHS')\n",
    "data, val_data = train_test_split(data, test_size=0.3, shuffle=True)\n",
    "\n",
    "# Train the forward transformation using pytorch-lightning and the learner class\n",
    "# Options for training\n",
    "trainer_options={'max_epochs': 15}\n",
    "optimizer_options = {'weight_decay': 1e-6}\n",
    "scheduler_options = {'mode': 'min', 'factor': 0.1, 'patience': 3,\n",
    "                     'threshold': 1e-4, 'verbose': True}\n",
    "stopper = pl.callbacks.early_stopping.EarlyStopping(\n",
    "    monitor='val_loss', min_delta=5e-4, patience=3, verbose=False, mode='min')\n",
    "# Instantiate learner\n",
    "learner_T = Learner(observer=observer, system=system, training_data=data,\n",
    "                    validation_data=val_data, method='T', batch_size=10,\n",
    "                    lr=1e-3, optimizer=optim.Adam,\n",
    "                    optimizer_options=optimizer_options,\n",
    "                    scheduler=optim.lr_scheduler.ReduceLROnPlateau,\n",
    "                    scheduler_options=scheduler_options)\n",
    "# Define logger and checkpointing\n",
    "logger = TensorBoardLogger(save_dir=learner_T.results_folder + '/tb_logs')\n",
    "checkpoint_callback = ModelCheckpoint(monitor='val_loss')\n",
    "trainer = pl.Trainer(\n",
    "    callbacks=[stopper, checkpoint_callback], **trainer_options, logger=logger,\n",
    "    log_every_n_steps=1, check_val_every_n_epoch=3)"
   ]
  },
  {
   "cell_type": "code",
   "execution_count": 12,
   "metadata": {
    "pycharm": {
     "name": "#%%\n"
    }
   },
   "outputs": [
    {
     "name": "stderr",
     "output_type": "stream",
     "text": [
      "Missing logger folder: /Users/mona/PhD_code/learn_observe_KKL/src/jupyter_notebooks/runs/RevDuffing/Supervised/T/exp_3/tb_logs/default\n",
      "\n",
      "  | Name  | Type               | Params\n",
      "---------------------------------------------\n",
      "0 | model | LuenbergerObserver | 26.1 K\n",
      "---------------------------------------------\n",
      "13.1 K    Trainable params\n",
      "13.1 K    Non-trainable params\n",
      "26.1 K    Total params\n",
      "0.104     Total estimated model params size (MB)\n"
     ]
    },
    {
     "name": "stdout",
     "output_type": "stream",
     "text": [
      "Logs stored in /Users/mona/PhD_code/learn_observe_KKL/src/jupyter_notebooks/runs/RevDuffing/Supervised/T/exp_3/tb_logs\n"
     ]
    },
    {
     "data": {
      "text/plain": "Validation sanity check: 0it [00:00, ?it/s]",
      "application/vnd.jupyter.widget-view+json": {
       "version_major": 2,
       "version_minor": 0,
       "model_id": "3e6d115374784af4bf355880dd37a524"
      }
     },
     "metadata": {},
     "output_type": "display_data"
    },
    {
     "name": "stderr",
     "output_type": "stream",
     "text": [
      "/Users/mona/PhD_code/learn_observe_KKL/venv/lib/python3.9/site-packages/pytorch_lightning/trainer/data_loading.py:659: UserWarning: Your `val_dataloader` has `shuffle=True`, it is strongly recommended that you turn this off for val/test/predict dataloaders.\n",
      "  rank_zero_warn(\n",
      "/Users/mona/PhD_code/learn_observe_KKL/venv/lib/python3.9/site-packages/pytorch_lightning/trainer/data_loading.py:132: UserWarning: The dataloader, val_dataloader 0, does not have many workers which may be a bottleneck. Consider increasing the value of the `num_workers` argument` (try 16 which is the number of cpus on this machine) in the `DataLoader` init to improve performance.\n",
      "  rank_zero_warn(\n",
      "/Users/mona/PhD_code/learn_observe_KKL/venv/lib/python3.9/site-packages/pytorch_lightning/trainer/data_loading.py:132: UserWarning: The dataloader, train_dataloader, does not have many workers which may be a bottleneck. Consider increasing the value of the `num_workers` argument` (try 16 which is the number of cpus on this machine) in the `DataLoader` init to improve performance.\n",
      "  rank_zero_warn(\n"
     ]
    },
    {
     "data": {
      "text/plain": "Training: 0it [00:00, ?it/s]",
      "application/vnd.jupyter.widget-view+json": {
       "version_major": 2,
       "version_minor": 0,
       "model_id": "c04218e937cf412f9fd3f78e16458130"
      }
     },
     "metadata": {},
     "output_type": "display_data"
    },
    {
     "data": {
      "text/plain": "Validating: 0it [00:00, ?it/s]",
      "application/vnd.jupyter.widget-view+json": {
       "version_major": 2,
       "version_minor": 0,
       "model_id": "ee56acbaadfa4b36932e922a73c82d6a"
      }
     },
     "metadata": {},
     "output_type": "display_data"
    },
    {
     "data": {
      "text/plain": "Validating: 0it [00:00, ?it/s]",
      "application/vnd.jupyter.widget-view+json": {
       "version_major": 2,
       "version_minor": 0,
       "model_id": "3229eb0fd1eb4dfaab168d8280e6795b"
      }
     },
     "metadata": {},
     "output_type": "display_data"
    },
    {
     "data": {
      "text/plain": "Validating: 0it [00:00, ?it/s]",
      "application/vnd.jupyter.widget-view+json": {
       "version_major": 2,
       "version_minor": 0,
       "model_id": "9371ac51ba4c49cfa1a14696d2898a6b"
      }
     },
     "metadata": {},
     "output_type": "display_data"
    },
    {
     "data": {
      "text/plain": "Validating: 0it [00:00, ?it/s]",
      "application/vnd.jupyter.widget-view+json": {
       "version_major": 2,
       "version_minor": 0,
       "model_id": "0b76caca17c04e4eac1f4f88c6432630"
      }
     },
     "metadata": {},
     "output_type": "display_data"
    },
    {
     "data": {
      "text/plain": "0"
     },
     "execution_count": 12,
     "metadata": {},
     "output_type": "execute_result"
    }
   ],
   "source": [
    "# To see logger in tensorboard, copy the following output name_of_folder\n",
    "print(f'Logs stored in {learner_T.results_folder}/tb_logs')\n",
    "# which should be similar to jupyter_notebooks/runs/method/exp_0/tb_logs/\n",
    "# Then type this in terminal:\n",
    "# tensorboard --logdir=name_of_folder --port=8080\n",
    "\n",
    "# Train and save results\n",
    "trainer.fit(learner_T)\n",
    "learner_T.save_results(limits=np.array([[-1, 1.], [-1., 1.], [-1., 1.]]),\n",
    "                       nb_trajs=10, tsim=(0, 60), dt=1e-2,\n",
    "                       checkpoint_path=checkpoint_callback.best_model_path)"
   ]
  },
  {
   "cell_type": "code",
   "execution_count": 13,
   "metadata": {},
   "outputs": [
    {
     "name": "stderr",
     "output_type": "stream",
     "text": [
      "GPU available: False, used: False\n",
      "TPU available: False, using: 0 TPU cores\n",
      "IPU available: False, using: 0 IPUs\n"
     ]
    },
    {
     "name": "stdout",
     "output_type": "stream",
     "text": [
      "Results saved in in /Users/mona/PhD_code/learn_observe_KKL/src/jupyter_notebooks/runs/RevDuffing/Supervised/T_star/exp_3\n"
     ]
    }
   ],
   "source": [
    "# Train the inverse transformation using pytorch-lightning and the learner class\n",
    "# Options for training\n",
    "trainer_options={'max_epochs': 20}\n",
    "optimizer_options = {'weight_decay': 1e-8}\n",
    "scheduler_options = {'mode': 'min', 'factor': 0.1, 'patience': 3,\n",
    "                     'threshold': 1e-4, 'verbose': True}\n",
    "stopper = pl.callbacks.early_stopping.EarlyStopping(\n",
    "    monitor='val_loss', min_delta=5e-4, patience=3, verbose=False, mode='min')\n",
    "# Instantiate learner\n",
    "learner_T_star = Learner(observer=observer, system=system, training_data=data,\n",
    "                         validation_data=val_data, method='T_star',\n",
    "                         batch_size=10, lr=5e-4, optimizer=optim.Adam,\n",
    "                         optimizer_options=optimizer_options,\n",
    "                         scheduler=optim.lr_scheduler.ReduceLROnPlateau,\n",
    "                         scheduler_options=scheduler_options)\n",
    "# Define logger and checkpointing\n",
    "logger = TensorBoardLogger(save_dir=learner_T_star.results_folder + '/tb_logs')\n",
    "checkpoint_callback = ModelCheckpoint(monitor='val_loss')\n",
    "trainer = pl.Trainer(\n",
    "    callbacks=[stopper, checkpoint_callback], **trainer_options, logger=logger,\n",
    "    log_every_n_steps=1, check_val_every_n_epoch=3)\n"
   ]
  },
  {
   "cell_type": "code",
   "execution_count": 14,
   "metadata": {
    "pycharm": {
     "name": "#%%\n"
    }
   },
   "outputs": [
    {
     "name": "stderr",
     "output_type": "stream",
     "text": [
      "Missing logger folder: /Users/mona/PhD_code/learn_observe_KKL/src/jupyter_notebooks/runs/RevDuffing/Supervised/T_star/exp_3/tb_logs/default\n",
      "\n",
      "  | Name  | Type               | Params\n",
      "---------------------------------------------\n",
      "0 | model | LuenbergerObserver | 26.1 K\n",
      "---------------------------------------------\n",
      "13.1 K    Trainable params\n",
      "13.1 K    Non-trainable params\n",
      "26.1 K    Total params\n",
      "0.104     Total estimated model params size (MB)\n"
     ]
    },
    {
     "name": "stdout",
     "output_type": "stream",
     "text": [
      "Logs stored in /Users/mona/PhD_code/learn_observe_KKL/src/jupyter_notebooks/runs/RevDuffing/Supervised/T_star/exp_3/tb_logs\n"
     ]
    },
    {
     "data": {
      "text/plain": "Validation sanity check: 0it [00:00, ?it/s]",
      "application/vnd.jupyter.widget-view+json": {
       "version_major": 2,
       "version_minor": 0,
       "model_id": "3673c1ac99c249cf859bf747d9b4ddb1"
      }
     },
     "metadata": {},
     "output_type": "display_data"
    },
    {
     "name": "stderr",
     "output_type": "stream",
     "text": [
      "/Users/mona/PhD_code/learn_observe_KKL/venv/lib/python3.9/site-packages/pytorch_lightning/trainer/data_loading.py:659: UserWarning: Your `val_dataloader` has `shuffle=True`, it is strongly recommended that you turn this off for val/test/predict dataloaders.\n",
      "  rank_zero_warn(\n",
      "/Users/mona/PhD_code/learn_observe_KKL/venv/lib/python3.9/site-packages/pytorch_lightning/trainer/data_loading.py:132: UserWarning: The dataloader, val_dataloader 0, does not have many workers which may be a bottleneck. Consider increasing the value of the `num_workers` argument` (try 16 which is the number of cpus on this machine) in the `DataLoader` init to improve performance.\n",
      "  rank_zero_warn(\n",
      "/Users/mona/PhD_code/learn_observe_KKL/venv/lib/python3.9/site-packages/pytorch_lightning/trainer/data_loading.py:132: UserWarning: The dataloader, train_dataloader, does not have many workers which may be a bottleneck. Consider increasing the value of the `num_workers` argument` (try 16 which is the number of cpus on this machine) in the `DataLoader` init to improve performance.\n",
      "  rank_zero_warn(\n"
     ]
    },
    {
     "data": {
      "text/plain": "Training: 0it [00:00, ?it/s]",
      "application/vnd.jupyter.widget-view+json": {
       "version_major": 2,
       "version_minor": 0,
       "model_id": "eecd96d78b4643a7a762160ae220090f"
      }
     },
     "metadata": {},
     "output_type": "display_data"
    },
    {
     "data": {
      "text/plain": "Validating: 0it [00:00, ?it/s]",
      "application/vnd.jupyter.widget-view+json": {
       "version_major": 2,
       "version_minor": 0,
       "model_id": "9ca86f4c8485481a844aaebf3430ab60"
      }
     },
     "metadata": {},
     "output_type": "display_data"
    },
    {
     "data": {
      "text/plain": "Validating: 0it [00:00, ?it/s]",
      "application/vnd.jupyter.widget-view+json": {
       "version_major": 2,
       "version_minor": 0,
       "model_id": "80236c0011674f1fba4eade2f6fbcc96"
      }
     },
     "metadata": {},
     "output_type": "display_data"
    },
    {
     "data": {
      "text/plain": "Validating: 0it [00:00, ?it/s]",
      "application/vnd.jupyter.widget-view+json": {
       "version_major": 2,
       "version_minor": 0,
       "model_id": "cb536e5771ce4df9b916ad482d348db4"
      }
     },
     "metadata": {},
     "output_type": "display_data"
    },
    {
     "name": "stdout",
     "output_type": "stream",
     "text": [
      "Epoch    10: reducing learning rate of group 0 to 5.0000e-05.\n"
     ]
    },
    {
     "data": {
      "text/plain": "Validating: 0it [00:00, ?it/s]",
      "application/vnd.jupyter.widget-view+json": {
       "version_major": 2,
       "version_minor": 0,
       "model_id": "dfbb5fcc219b478e82e549787e110958"
      }
     },
     "metadata": {},
     "output_type": "display_data"
    },
    {
     "name": "stdout",
     "output_type": "stream",
     "text": [
      "Epoch    14: reducing learning rate of group 0 to 5.0000e-06.\n"
     ]
    },
    {
     "data": {
      "text/plain": "Validating: 0it [00:00, ?it/s]",
      "application/vnd.jupyter.widget-view+json": {
       "version_major": 2,
       "version_minor": 0,
       "model_id": "071d9deadeba4368b2d6d730d5528a34"
      }
     },
     "metadata": {},
     "output_type": "display_data"
    },
    {
     "data": {
      "text/plain": "Validating: 0it [00:00, ?it/s]",
      "application/vnd.jupyter.widget-view+json": {
       "version_major": 2,
       "version_minor": 0,
       "model_id": "12cf0f3a104c4838ae54ca433003b8a7"
      }
     },
     "metadata": {},
     "output_type": "display_data"
    },
    {
     "name": "stderr",
     "output_type": "stream",
     "text": [
      "No artists with labels found to put in legend.  Note that artists whose label start with an underscore are ignored when legend() is called with no argument.\n"
     ]
    },
    {
     "name": "stdout",
     "output_type": "stream",
     "text": [
      "Shape of mesh for evaluation: torch.Size([10000, 5])\n"
     ]
    },
    {
     "name": "stderr",
     "output_type": "stream",
     "text": [
      "No artists with labels found to put in legend.  Note that artists whose label start with an underscore are ignored when legend() is called with no argument.\n",
      "No artists with labels found to put in legend.  Note that artists whose label start with an underscore are ignored when legend() is called with no argument.\n"
     ]
    }
   ],
   "source": [
    "# To see logger in tensorboard, copy the following output name_of_folder\n",
    "print(f'Logs stored in {learner_T_star.results_folder}/tb_logs')\n",
    "# which should be similar to jupyter_notebooks/runs/method/exp_0/tb_logs/\n",
    "# Then type this in terminal:\n",
    "# tensorboard --logdir=name_of_folder --port=8080\n",
    "\n",
    "# Train and save results\n",
    "trainer.fit(learner_T_star)\n",
    "learner_T_star.save_results(limits=np.array([[-1, 1.], [-1., 1.]]),\n",
    "                            nb_trajs=10, tsim=(0, 60), dt=1e-2,\n",
    "                            checkpoint_path=checkpoint_callback.best_model_path)"
   ]
  }
 ],
 "metadata": {
  "interpreter": {
   "hash": "876800e5f4140bb8c9eb7cb3630e01ad622f0981781552d39a63585948556d04"
  },
  "kernelspec": {
   "display_name": "Python 3 (ipykernel)",
   "language": "python",
   "name": "python3"
  },
  "language_info": {
   "codemirror_mode": {
    "name": "ipython",
    "version": 3
   },
   "file_extension": ".py",
   "mimetype": "text/x-python",
   "name": "python",
   "nbconvert_exporter": "python",
   "pygments_lexer": "ipython3",
   "version": "3.9.6"
  }
 },
 "nbformat": 4,
 "nbformat_minor": 2
}