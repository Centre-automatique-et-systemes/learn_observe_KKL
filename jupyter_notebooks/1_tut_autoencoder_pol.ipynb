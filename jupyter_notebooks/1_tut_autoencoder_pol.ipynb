{
 "cells": [
  {
   "cell_type": "code",
   "execution_count": 1,
   "metadata": {},
   "outputs": [],
   "source": [
    "!pip3 install git+https://github.com/Centre-automatique-et-systemes/lena.git gwpy &> /dev/null\n",
    "!pip3 install git+https://github.com/aliutkus/torchinterp1d.git gwpy &> /dev/null"
   ]
  },
  {
   "cell_type": "code",
   "execution_count": null,
   "metadata": {},
   "outputs": [],
   "source": [
    "import sys ; sys.path.append('../')\n",
    "import torch.optim as optim\n",
    "import torch\n",
    "import seaborn as sb\n",
    "import pytorch_lightning as pl\n",
    "import numpy as np\n",
    "\n",
    "from sklearn.model_selection import train_test_split\n",
    "from pytorch_lightning.loggers import TensorBoardLogger\n",
    "from pytorch_lightning.callbacks import ModelCheckpoint\n",
    "\n",
    "from learn_KKL.luenberger_observer import LuenbergerObserver\n",
    "from learn_KKL.system import VanDerPol\n",
    "from learn_KKL.learner import Learner\n",
    "from learn_KKL.utils import generate_mesh\n",
    "\n",
    "sb.set_style('whitegrid')"
   ]
  },
  {
   "cell_type": "code",
   "execution_count": 14,
   "metadata": {},
   "outputs": [
    {
     "name": "stderr",
     "output_type": "stream",
     "text": [
      "GPU available: False, used: False\n",
      "TPU available: False, using: 0 TPU cores\n",
      "IPU available: False, using: 0 IPUs\n"
     ]
    },
    {
     "name": "stdout",
     "output_type": "stream",
     "text": [
      "Results saved in in /Users/mona/PhD_code/learn_observe_KKL/src/jupyter_notebooks/runs/VanDerPol/Autoencoder/exp_4\n"
     ]
    }
   ],
   "source": [
    "# Generate the data\n",
    "system = VanDerPol()\n",
    "data = generate_mesh(np.array([[-2.5, 2.5], [-2.5, 2.5]]), 10000)\n",
    "data, val_data = train_test_split(data, test_size=0.3, shuffle=True)\n",
    "\n",
    "# Create the observer (autoencoder design)\n",
    "observer = LuenbergerObserver(dim_x=2, dim_y=1, method=\"Autoencoder\", wc=0.46)\n",
    "observer.set_dynamics(system)\n",
    "\n",
    "# Train using pytorch-lightning and the learner class\n",
    "# Options for training\n",
    "trainer_options={'max_epochs': 15}\n",
    "optimizer_options = {'weight_decay': 1e-8}\n",
    "scheduler_options = {'mode': 'min', 'factor': 0.1, 'patience': 3,\n",
    "                     'threshold': 1e-3, 'verbose': True}\n",
    "stopper = pl.callbacks.early_stopping.EarlyStopping(\n",
    "    monitor='val_loss', min_delta=5e-4, patience=3, verbose=False, mode='min')\n",
    "# Instantiate learner\n",
    "learner = Learner(observer=observer, system=system, training_data=data,\n",
    "                  validation_data=val_data, method='Autoencoder',\n",
    "                  batch_size=10, lr=5e-4, optimizer=optim.Adam,\n",
    "                  optimizer_options=optimizer_options,\n",
    "                  scheduler=optim.lr_scheduler.ReduceLROnPlateau,\n",
    "                  scheduler_options=scheduler_options)\n",
    "# Define logger and checkpointing\n",
    "logger = TensorBoardLogger(save_dir=learner.results_folder + '/tb_logs')\n",
    "checkpoint_callback = ModelCheckpoint(monitor='val_loss')\n",
    "trainer = pl.Trainer(\n",
    "    callbacks=[stopper, checkpoint_callback], **trainer_options, logger=logger,\n",
    "    log_every_n_steps=1, check_val_every_n_epoch=3)"
   ]
  },
  {
   "cell_type": "code",
   "execution_count": null,
   "metadata": {
    "pycharm": {
     "name": "#%%\n",
     "is_executing": true
    }
   },
   "outputs": [
    {
     "name": "stderr",
     "output_type": "stream",
     "text": [
      "Missing logger folder: /Users/mona/PhD_code/learn_observe_KKL/src/jupyter_notebooks/runs/VanDerPol/Autoencoder/exp_4/tb_logs/default\n",
      "\n",
      "  | Name  | Type               | Params\n",
      "---------------------------------------------\n",
      "0 | model | LuenbergerObserver | 26.1 K\n",
      "---------------------------------------------\n",
      "26.1 K    Trainable params\n",
      "0         Non-trainable params\n",
      "26.1 K    Total params\n",
      "0.104     Total estimated model params size (MB)\n"
     ]
    },
    {
     "name": "stdout",
     "output_type": "stream",
     "text": [
      "Logs stored in /Users/mona/PhD_code/learn_observe_KKL/src/jupyter_notebooks/runs/VanDerPol/Autoencoder/exp_4/tb_logs\n"
     ]
    },
    {
     "data": {
      "text/plain": "Validation sanity check: 0it [00:00, ?it/s]",
      "application/vnd.jupyter.widget-view+json": {
       "version_major": 2,
       "version_minor": 0,
       "model_id": "a84e2b922c4d467d8bc040df129f76f2"
      }
     },
     "metadata": {},
     "output_type": "display_data"
    },
    {
     "name": "stderr",
     "output_type": "stream",
     "text": [
      "/Users/mona/PhD_code/learn_observe_KKL/venv/lib/python3.9/site-packages/pytorch_lightning/trainer/data_loading.py:659: UserWarning: Your `val_dataloader` has `shuffle=True`, it is strongly recommended that you turn this off for val/test/predict dataloaders.\n",
      "  rank_zero_warn(\n",
      "/Users/mona/PhD_code/learn_observe_KKL/venv/lib/python3.9/site-packages/pytorch_lightning/trainer/data_loading.py:132: UserWarning: The dataloader, val_dataloader 0, does not have many workers which may be a bottleneck. Consider increasing the value of the `num_workers` argument` (try 16 which is the number of cpus on this machine) in the `DataLoader` init to improve performance.\n",
      "  rank_zero_warn(\n",
      "/Users/mona/PhD_code/learn_observe_KKL/venv/lib/python3.9/site-packages/pytorch_lightning/trainer/data_loading.py:132: UserWarning: The dataloader, train_dataloader, does not have many workers which may be a bottleneck. Consider increasing the value of the `num_workers` argument` (try 16 which is the number of cpus on this machine) in the `DataLoader` init to improve performance.\n",
      "  rank_zero_warn(\n"
     ]
    },
    {
     "data": {
      "text/plain": "Training: 0it [00:00, ?it/s]",
      "application/vnd.jupyter.widget-view+json": {
       "version_major": 2,
       "version_minor": 0,
       "model_id": "529e1acffa564a998af5f62834e2c23e"
      }
     },
     "metadata": {},
     "output_type": "display_data"
    },
    {
     "data": {
      "text/plain": "Validating: 0it [00:00, ?it/s]",
      "application/vnd.jupyter.widget-view+json": {
       "version_major": 2,
       "version_minor": 0,
       "model_id": "702978d0b85c408e96cb31e1eccea6df"
      }
     },
     "metadata": {},
     "output_type": "display_data"
    },
    {
     "name": "stdout",
     "output_type": "stream",
     "text": [
      "Epoch     5: reducing learning rate of group 0 to 5.0000e-05.\n"
     ]
    },
    {
     "data": {
      "text/plain": "Validating: 0it [00:00, ?it/s]",
      "application/vnd.jupyter.widget-view+json": {
       "version_major": 2,
       "version_minor": 0,
       "model_id": "a76da0373d344c759385663dcad82ecc"
      }
     },
     "metadata": {},
     "output_type": "display_data"
    },
    {
     "data": {
      "text/plain": "Validating: 0it [00:00, ?it/s]",
      "application/vnd.jupyter.widget-view+json": {
       "version_major": 2,
       "version_minor": 0,
       "model_id": "3de59dfe9cc34e068c8077c456f11c03"
      }
     },
     "metadata": {},
     "output_type": "display_data"
    },
    {
     "name": "stdout",
     "output_type": "stream",
     "text": [
      "Epoch     9: reducing learning rate of group 0 to 5.0000e-06.\n"
     ]
    },
    {
     "data": {
      "text/plain": "Validating: 0it [00:00, ?it/s]",
      "application/vnd.jupyter.widget-view+json": {
       "version_major": 2,
       "version_minor": 0,
       "model_id": "c0359013ead6488f9dcf84a0742589ba"
      }
     },
     "metadata": {},
     "output_type": "display_data"
    },
    {
     "name": "stderr",
     "output_type": "stream",
     "text": [
      "No artists with labels found to put in legend.  Note that artists whose label start with an underscore are ignored when legend() is called with no argument.\n"
     ]
    },
    {
     "name": "stdout",
     "output_type": "stream",
     "text": [
      "Shape of mesh for evaluation: torch.Size([10000, 5])\n"
     ]
    }
   ],
   "source": [
    "# To see logger in tensorboard, copy the following output name_of_folder\n",
    "print(f'Logs stored in {learner.results_folder}/tb_logs')\n",
    "# which should be similar to jupyter_notebooks/runs/method/exp_0/tb_logs/\n",
    "# Then type this in terminal:\n",
    "# tensorboard --logdir=name_of_folder --port=8080\n",
    "\n",
    "# Train and save results\n",
    "trainer.fit(learner)\n",
    "learner.save_results(limits=np.array([[-1., 1.], [-1., 1.]]), nb_trajs=10,\n",
    "                     tsim=(0, 60), dt=1e-2, fast=True,\n",
    "                     checkpoint_path=checkpoint_callback.best_model_path)\n"
   ]
  }
 ],
 "metadata": {
  "interpreter": {
   "hash": "876800e5f4140bb8c9eb7cb3630e01ad622f0981781552d39a63585948556d04"
  },
  "kernelspec": {
   "display_name": "Python 3 (ipykernel)",
   "language": "python",
   "name": "python3"
  },
  "language_info": {
   "codemirror_mode": {
    "name": "ipython",
    "version": 3
   },
   "file_extension": ".py",
   "mimetype": "text/x-python",
   "name": "python",
   "nbconvert_exporter": "python",
   "pygments_lexer": "ipython3",
   "version": "3.9.6"
  }
 },
 "nbformat": 4,
 "nbformat_minor": 2
}