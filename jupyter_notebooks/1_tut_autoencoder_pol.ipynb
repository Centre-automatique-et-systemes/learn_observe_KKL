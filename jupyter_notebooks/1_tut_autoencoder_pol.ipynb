{
 "cells": [
  {
   "cell_type": "code",
   "execution_count": 1,
   "metadata": {},
   "outputs": [],
   "source": [
    "!pip3 install git+https://github.com/Centre-automatique-et-systemes/lena.git gwpy &> /dev/null\n",
    "!pip3 install git+https://github.com/aliutkus/torchinterp1d.git gwpy &> /dev/null"
   ]
  },
  {
   "cell_type": "code",
   "execution_count": 1,
   "metadata": {
    "pycharm": {
     "is_executing": true
    }
   },
   "outputs": [],
   "source": [
    "import sys ; sys.path.append('../')\n",
    "import torch.optim as optim\n",
    "import seaborn as sb\n",
    "import pytorch_lightning as pl\n",
    "import numpy as np\n",
    "\n",
    "from sklearn.model_selection import train_test_split\n",
    "from pytorch_lightning.loggers import TensorBoardLogger\n",
    "from pytorch_lightning.callbacks import ModelCheckpoint\n",
    "\n",
    "from learn_KKL.luenberger_observer import LuenbergerObserver\n",
    "from learn_KKL.system import VanDerPol\n",
    "from learn_KKL.learner import Learner\n",
    "from learn_KKL.utils import generate_mesh\n",
    "\n",
    "sb.set_style('whitegrid')"
   ]
  },
  {
   "cell_type": "code",
   "execution_count": 3,
   "metadata": {},
   "outputs": [
    {
     "name": "stderr",
     "output_type": "stream",
     "text": [
      "GPU available: False, used: False\n",
      "TPU available: False, using: 0 TPU cores\n",
      "IPU available: False, using: 0 IPUs\n"
     ]
    },
    {
     "name": "stdout",
     "output_type": "stream",
     "text": [
      "Results saved in in /Users/mona/PhD_code/learn_observe_KKL/src/jupyter_notebooks/runs/VanDerPol/Autoencoder/exp_2\n"
     ]
    }
   ],
   "source": [
    "# Generate the data\n",
    "system = VanDerPol()\n",
    "data = generate_mesh(np.array([[-2.5, 2.5], [-2.5, 2.5]]), 72000)\n",
    "data, val_data = train_test_split(data, test_size=0.3, shuffle=True)\n",
    "\n",
    "# Create the observer (autoencoder design)\n",
    "observer = LuenbergerObserver(dim_x=2, dim_y=1, method=\"Autoencoder\", wc=0.2)\n",
    "observer.set_dynamics(system)\n",
    "\n",
    "# Train using pytorch-lightning and the learner class\n",
    "# Options for training\n",
    "trainer_options={'max_epochs': 15}\n",
    "optimizer_options = {'weight_decay': 1e-8}\n",
    "scheduler_options = {'mode': 'min', 'factor': 0.1, 'patience': 3,\n",
    "                     'threshold': 1e-3, 'verbose': True}\n",
    "stopper = pl.callbacks.early_stopping.EarlyStopping(\n",
    "    monitor='val_loss', min_delta=5e-4, patience=3, verbose=False, mode='min')\n",
    "# Instantiate learner\n",
    "learner = Learner(observer=observer, system=system, training_data=data,\n",
    "                  validation_data=val_data, method='Autoencoder',\n",
    "                  batch_size=10, lr=5e-4, optimizer=optim.Adam,\n",
    "                  optimizer_options=optimizer_options,\n",
    "                  scheduler=optim.lr_scheduler.ReduceLROnPlateau,\n",
    "                  scheduler_options=scheduler_options)\n",
    "# Define logger and checkpointing\n",
    "logger = TensorBoardLogger(save_dir=learner.results_folder + '/tb_logs')\n",
    "checkpoint_callback = ModelCheckpoint(monitor='val_loss')\n",
    "trainer = pl.Trainer(\n",
    "    callbacks=[stopper, checkpoint_callback], **trainer_options, logger=logger,\n",
    "    log_every_n_steps=1, check_val_every_n_epoch=3)"
   ]
  },
  {
   "cell_type": "code",
   "execution_count": null,
   "metadata": {
    "pycharm": {
     "name": "#%%\n"
    }
   },
   "outputs": [
    {
     "name": "stderr",
     "output_type": "stream",
     "text": [
      "\n",
      "  | Name  | Type               | Params\n",
      "---------------------------------------------\n",
      "0 | model | LuenbergerObserver | 26.1 K\n",
      "---------------------------------------------\n",
      "26.1 K    Trainable params\n",
      "0         Non-trainable params\n",
      "26.1 K    Total params\n",
      "0.104     Total estimated model params size (MB)\n"
     ]
    },
    {
     "name": "stdout",
     "output_type": "stream",
     "text": [
      "Logs stored in /Users/mona/PhD_code/learn_observe_KKL/src/jupyter_notebooks/runs/VanDerPol/Autoencoder/exp_2/tb_logs\n"
     ]
    },
    {
     "data": {
      "application/vnd.jupyter.widget-view+json": {
       "model_id": "",
       "version_major": 2,
       "version_minor": 0
      },
      "text/plain": [
       "Validation sanity check: 0it [00:00, ?it/s]"
      ]
     },
     "metadata": {},
     "output_type": "display_data"
    },
    {
     "name": "stderr",
     "output_type": "stream",
     "text": [
      "/Users/mona/PhD_code/learn_observe_KKL/venv/lib/python3.9/site-packages/pytorch_lightning/trainer/data_loading.py:372: UserWarning: Your val_dataloader has `shuffle=True`, it is best practice to turn this off for val/test/predict dataloaders.\n",
      "  rank_zero_warn(\n",
      "/Users/mona/PhD_code/learn_observe_KKL/venv/lib/python3.9/site-packages/pytorch_lightning/trainer/data_loading.py:105: UserWarning: The dataloader, val dataloader 0, does not have many workers which may be a bottleneck. Consider increasing the value of the `num_workers` argument` (try 16 which is the number of cpus on this machine) in the `DataLoader` init to improve performance.\n",
      "  rank_zero_warn(\n",
      "/Users/mona/PhD_code/learn_observe_KKL/venv/lib/python3.9/site-packages/pytorch_lightning/trainer/data_loading.py:105: UserWarning: The dataloader, train dataloader, does not have many workers which may be a bottleneck. Consider increasing the value of the `num_workers` argument` (try 16 which is the number of cpus on this machine) in the `DataLoader` init to improve performance.\n",
      "  rank_zero_warn(\n"
     ]
    },
    {
     "data": {
      "application/vnd.jupyter.widget-view+json": {
       "model_id": "96629a16e2844ccab14496d4b7ebb013",
       "version_major": 2,
       "version_minor": 0
      },
      "text/plain": [
       "Training: -1it [00:00, ?it/s]"
      ]
     },
     "metadata": {},
     "output_type": "display_data"
    },
    {
     "data": {
      "application/vnd.jupyter.widget-view+json": {
       "model_id": "",
       "version_major": 2,
       "version_minor": 0
      },
      "text/plain": [
       "Validating: 0it [00:00, ?it/s]"
      ]
     },
     "metadata": {},
     "output_type": "display_data"
    },
    {
     "data": {
      "application/vnd.jupyter.widget-view+json": {
       "model_id": "",
       "version_major": 2,
       "version_minor": 0
      },
      "text/plain": [
       "Validating: 0it [00:00, ?it/s]"
      ]
     },
     "metadata": {},
     "output_type": "display_data"
    },
    {
     "data": {
      "application/vnd.jupyter.widget-view+json": {
       "model_id": "",
       "version_major": 2,
       "version_minor": 0
      },
      "text/plain": [
       "Validating: 0it [00:00, ?it/s]"
      ]
     },
     "metadata": {},
     "output_type": "display_data"
    }
   ],
   "source": [
    "# To see logger in tensorboard, copy the following output name_of_folder\n",
    "print(f'Logs stored in {learner.results_folder}/tb_logs')\n",
    "# which should be similar to jupyter_notebooks/runs/method/exp_0/tb_logs/\n",
    "# Then type this in terminal:\n",
    "# tensorboard --logdir=name_of_folder --port=8080\n",
    "\n",
    "# Train and save results\n",
    "trainer.fit(learner)\n",
    "learner.save_results(limits=np.array([[-1., 1.], [-1., 1.]]), nb_trajs=10,\n",
    "                     tsim=(0, 60), dt=1e-2,\n",
    "                     checkpoint_path=checkpoint_callback.best_model_path)"
   ]
  },
  {
   "cell_type": "code",
   "execution_count": null,
   "metadata": {},
   "outputs": [],
   "source": [
    "# Simulate one test trajectory\n",
    "import torch \n",
    "tsim = (0, 60)\n",
    "dt = 1e-2\n",
    "tq, simulation = system.simulate(torch.tensor([[0.5], [0.5]]), tsim, dt)\n",
    "measurement = observer.h(\n",
    "        simulation[:, :observer.dim_x, 0].T).T\n",
    "y = torch.cat((tq.unsqueeze(1), measurement), dim=1)\n",
    "\n",
    "# Predict from measurment\n",
    "estimation = observer.predict(y, tsim, dt)"
   ]
  },
  {
   "cell_type": "code",
   "execution_count": null,
   "metadata": {},
   "outputs": [],
   "source": [
    "# Plot ground truth and state estimation\n",
    "import matplotlib.pyplot as plt\n",
    "for i in range(simulation.shape[1]):\n",
    "        plt.plot(tq, simulation[:, i, 0], label=rf'$x_{i+1}$')\n",
    "        plt.plot(tq, estimation[:, i].detach().numpy(),\n",
    "                 label=rf'$\\hat{{x}}_{i+1}$')\n",
    "        plt.legend()\n",
    "        plt.show()"
   ]
  },
  {
   "cell_type": "code",
   "execution_count": null,
   "metadata": {
    "pycharm": {
     "name": "#%%\n"
    }
   },
   "outputs": [],
   "source": [
    "# Extra tests\n",
    "import os\n",
    "from smt.sampling_methods import LHS\n",
    "from learn_KKL.utils import RMSE, StandardScaler\n",
    "num_samples = 10000\n",
    "sampling = LHS(xlimits=np.array([[-2.5, 2.5], [-2.5, 2.5]]))\n",
    "mesh = torch.as_tensor(sampling(num_samples))\n",
    "_, mesh_hat = learner.model('Autoencoder', mesh)\n",
    "error = RMSE(mesh, mesh_hat, dim=1)\n",
    "for i in range(1, mesh.shape[1]):\n",
    "    name = 'Invertibility_heatmap' + str(i) + '.pdf'\n",
    "    plt.scatter(mesh[:, i - 1], mesh[:, i], cmap='jet',\n",
    "                c=np.log(error.detach().numpy()))\n",
    "    cbar = plt.colorbar()\n",
    "    cbar.set_label('Log estimation error')\n",
    "    plt.title('Log of RMSE between ' + r'$x$' + ' and '\n",
    "              + r'$\\hat{'r'x}$')\n",
    "    plt.xlabel(rf'$x_{i}$')\n",
    "    plt.ylabel(rf'$x_{i + 1}$')\n",
    "    plt.legend()\n",
    "    plt.show()"
   ]
  },
  {
   "cell_type": "code",
   "execution_count": null,
   "metadata": {
    "pycharm": {
     "name": "#%%\n"
    }
   },
   "outputs": [],
   "source": [
    "# Heatmap of RMSE(x, x_hat) with T_star\n",
    "num_samples = 10000\n",
    "# heatmap_data = learner.model.generate_data_svl(np.array([[-2.5, 2.5], [-2.5, 2.5]]), num_samples)\n",
    "# x = heatmap_data[:, :learner.model.dim_x]\n",
    "# z = heatmap_data[:, learner.model.dim_x:]\n",
    "sampling = LHS(xlimits=np.array([[-2.5, 2.5], [-2.5, 2.5]]))\n",
    "init_x = torch.as_tensor(sampling(num_samples))\n",
    "init = torch.zeros((learner.model.dim_x + learner.model.dim_z, num_samples))\n",
    "init[:learner.model.dim_x, :] = torch.transpose(init_x, 0, 1)\n",
    "print(init.shape, tsim, dt)\n",
    "tsim = (0, 10)\n",
    "dt = 1e-2\n",
    "tq, data_fw = learner.model.simulate_system(init, tsim, dt)\n",
    "heatmap_data = torch.transpose(data_fw[-1, :, :], 0, 1)\n",
    "print(data_fw.shape, heatmap_data.shape)\n",
    "x = heatmap_data[:, :learner.model.dim_x]\n",
    "z = heatmap_data[:, learner.model.dim_x:]\n",
    "x_hat = learner.model('T_star', z)\n",
    "error = RMSE(x, x_hat, dim=1)\n",
    "print(x.shape, error.shape)\n",
    "for i in range(1, x.shape[1]):\n",
    "    # https://stackoverflow.com/questions/37822925/how-to-smooth-by-interpolation-when-using-pcolormesh\n",
    "    name = 'RMSE_heatmap' + str(i) + '.pdf'\n",
    "    plt.scatter(x[:, i - 1], x[:, i], cmap='jet',\n",
    "                c=np.log(error.detach().numpy()))\n",
    "    cbar = plt.colorbar()\n",
    "    cbar.set_label('Log estimation error')\n",
    "    # print(x[:, i - 1:i + 1].shape)\n",
    "    # plt.imshow(x[:, i - 1:i + 1], cmap='jet',\n",
    "    #            c=np.log(error.numpy()))\n",
    "    # plt.pcolormesh(x[:, i - 1], x[:, i], np.log(error),\n",
    "    #                cmap='jet', shading='gouraud')\n",
    "    # cbar = plt.colorbar()\n",
    "    # cbar.set_label('Log estimation error')\n",
    "    # cbar = plt.colorbar()\n",
    "    cbar.set_label('Log estimation error')\n",
    "    plt.title('Log of RMSE between ' + r'$x$' + ' and '\n",
    "              + r'$\\hat{'r'x}$')\n",
    "    plt.xlabel(rf'$x_{i}$')\n",
    "    plt.ylabel(rf'$x_{i + 1}$')\n",
    "    plt.legend()\n",
    "    plt.show()"
   ]
  },
  {
   "cell_type": "code",
   "execution_count": null,
   "metadata": {
    "pycharm": {
     "name": "#%%\n"
    }
   },
   "outputs": [],
   "source": [
    "# Estimation over the test trajectories with T_star\n",
    "# trajs_init = torch.as_tensor(sampling(nb_trajs)).T\n",
    "import dill as pkl\n",
    "import pandas as pd\n",
    "import os, torch\n",
    "import matplotlib.pyplot as plt\n",
    "from learn_KKL.utils import RMSE, generate_mesh\n",
    "model = pkl.load('runs/RevDuffing/Autoencoder/exp_0/model.pkl', 'rb')\n",
    "learner = pkl.load('runs/RevDuffing/Autoencoder/exp_0/learner.pkl', 'rb')"
   ]
  },
  {
   "cell_type": "code",
   "execution_count": null,
   "metadata": {
    "pycharm": {
     "name": "#%%\n"
    }
   },
   "outputs": [],
   "source": [
    "nb_trajs = 10\n",
    "verbose = True\n",
    "num_samples = 100\n",
    "limits = np.array([[-1.,1], [-1.,1]])\n",
    "tsim=(0, 60)\n",
    "dt=1e-2\n",
    "mesh = learner.model.generate_data_svl(limits, num_samples, method='uniform')\n",
    "print(f'Shape of mesh for evaluation: {mesh.shape}')\n",
    "x_mesh = mesh[:, :learner.model.dim_x]\n",
    "z_mesh = mesh[:, learner.model.dim_x:]\n",
    "x_hat_star = learner.model('T_star', z_mesh)\n",
    "random_idx = np.random.choice(np.arange(num_samples),\n",
    "                              size=(nb_trajs,))\n",
    "trajs_init = x_mesh[random_idx]\n",
    "traj_folder = os.path.join(learner.results_folder, 'Test_trajectories')\n",
    "tq, simulation = learner.system.simulate(trajs_init, tsim, dt)\n",
    "measurement = learner.model.h(simulation)\n",
    "# Save these test trajectories\n",
    "os.makedirs(traj_folder, exist_ok=True)\n",
    "traj_error = 0.\n",
    "for i in range(nb_trajs):\n",
    "    # TODO run predictions in parallel for all test trajectories!!!\n",
    "    # Need to figure out how to interpolate y in parallel for all\n",
    "    # trajectories!!!\n",
    "    y = torch.cat((tq.unsqueeze(1), measurement[:, i]), dim=1)\n",
    "    estimation = learner.model.predict(y, tsim, dt).detach()\n",
    "    traj_error += RMSE(simulation[:, i], estimation)\n",
    "\n",
    "    current_traj_folder = os.path.join(traj_folder, f'Traj_{i}')\n",
    "    os.makedirs(current_traj_folder, exist_ok=True)\n",
    "    filename = f'True_traj_{i}.csv'\n",
    "    file = pd.DataFrame(simulation[:, i].cpu().numpy())\n",
    "    file.to_csv(os.path.join(current_traj_folder, filename),\n",
    "                header=False)\n",
    "    filename = f'Estimated_traj_{i}.csv'\n",
    "    file = pd.DataFrame(estimation.cpu().numpy())\n",
    "    file.to_csv(os.path.join(current_traj_folder, filename),\n",
    "                header=False)\n",
    "    for j in range(estimation.shape[1]):\n",
    "        name = 'Traj' + str(j) + '.pdf'\n",
    "        plt.plot(tq, simulation[:, i, j].detach().numpy(),\n",
    "                 label=rf'$x_{j + 1}$')\n",
    "        plt.plot(tq, estimation[:, j].detach().numpy(),\n",
    "                 label=rf'$\\hat{{x}}_{j + 1}$')\n",
    "        plt.legend()\n",
    "        plt.xlabel(rf'$t$')\n",
    "        plt.ylabel(rf'$x_{j + 1}$')\n",
    "        plt.savefig(os.path.join(current_traj_folder, name),\n",
    "                    bbox_inches='tight')\n",
    "        if verbose:\n",
    "            plt.show()\n",
    "        plt.close('all')\n",
    "filename = 'RMSE_traj.txt'\n",
    "with open(os.path.join(traj_folder, filename), 'w') as f:\n",
    "    print(traj_error, file=f)\n",
    "\n",
    "# Invertibility heatmap\n",
    "z_hat_T, x_hat_AE = learner.model('Autoencoder', x_mesh)\n",
    "error = RMSE(x_mesh, x_hat_AE, dim=1)\n",
    "for i in range(1, x_mesh.shape[1]):\n",
    "    name = 'Invertibility_heatmap' + str(i) + '.pdf'\n",
    "    plt.scatter(x_mesh[:, i - 1], x_mesh[:, i], cmap='jet',\n",
    "                c=np.log(error.detach().numpy()))\n",
    "    cbar = plt.colorbar()\n",
    "    cbar.set_label('Log estimation error')\n",
    "    plt.title(r'RMSE between $x$ and $T^*(T(x))$')\n",
    "    plt.xlabel(rf'$x_{i}$')\n",
    "    plt.ylabel(rf'$x_{i + 1}$')\n",
    "    plt.legend()\n",
    "    plt.savefig(os.path.join(learner.results_folder, name),\n",
    "                bbox_inches='tight')\n",
    "    if verbose:\n",
    "        plt.show()\n",
    "    plt.close('all')"
   ]
  },
  {
   "cell_type": "code",
   "execution_count": null,
   "metadata": {
    "pycharm": {
     "name": "#%%\n"
    }
   },
   "outputs": [],
   "source": [
    "# Loss heatmap\n",
    "losses = []\n",
    "if learner.method == \"Autoencoder\":\n",
    "    # z_hat, x_hat = learner.model(learner.method, x_mesh)\n",
    "    # random_idx = np.random.choice(np.arange(num_samples),\n",
    "    #                               size=(5000,))\n",
    "    random_idx = np.arange(len(x_mesh))\n",
    "    loss, loss1, loss2 = learner.model.loss_autoencoder(\n",
    "        x_mesh[random_idx], x_hat_AE[random_idx],\n",
    "        z_hat_T[random_idx], dim=-1)\n",
    "    losses.append(loss1)\n",
    "    losses.append(loss2)\n",
    "elif learner.method == \"T_star\":\n",
    "    # x_hat = learner.model(learner.method, z_mesh)\n",
    "    random_idx = np.arange(num_samples)\n",
    "    loss = learner.model.loss_T_star(x_mesh[random_idx],\n",
    "                                  x_hat_star[random_idx], dim=-1)\n",
    "    losses.append(loss)\n",
    "print(loss1.shape, loss2.shape, x_mesh.shape)\n",
    "for j in range(len(losses)):\n",
    "    loss = losses[j]\n",
    "    for i in range(1, x_mesh.shape[1]):\n",
    "        name = f'Loss{j+1}_{i-1}.pdf'\n",
    "        plt.scatter(x_mesh[random_idx, i - 1],\n",
    "                    x_mesh[random_idx, i], cmap='jet',\n",
    "                    c=np.log(loss.detach().numpy()))\n",
    "        cbar = plt.colorbar()\n",
    "        cbar.set_label('Log loss')\n",
    "        plt.title('Loss over grid')\n",
    "        plt.xlabel(rf'$x_{i}$')\n",
    "        plt.ylabel(rf'$x_{i + 1}$')\n",
    "        plt.legend()\n",
    "        plt.savefig(os.path.join(learner.results_folder, name),\n",
    "                    bbox_inches='tight')\n",
    "        if verbose:\n",
    "            plt.show()\n",
    "        plt.close('all')"
   ]
  }
 ],
 "metadata": {
  "interpreter": {
   "hash": "876800e5f4140bb8c9eb7cb3630e01ad622f0981781552d39a63585948556d04"
  },
  "kernelspec": {
   "display_name": "Python 3 (ipykernel)",
   "language": "python",
   "name": "python3"
  },
  "language_info": {
   "codemirror_mode": {
    "name": "ipython",
    "version": 3
   },
   "file_extension": ".py",
   "mimetype": "text/x-python",
   "name": "python",
   "nbconvert_exporter": "python",
   "pygments_lexer": "ipython3",
   "version": "3.9.6"
  }
 },
 "nbformat": 4,
 "nbformat_minor": 2
}
