{
 "cells": [
  {
   "cell_type": "code",
   "execution_count": 17,
   "id": "7bbc3621",
   "metadata": {
    "pycharm": {
     "name": "#%%\n"
    }
   },
   "outputs": [
    {
     "name": "stdout",
     "output_type": "stream",
     "text": [
      "imports done\n"
     ]
    }
   ],
   "source": [
    "import matplotlib.pyplot as plt\n",
    "from learn_KKL.luenberger_observer import LuenbergerObserver\n",
    "import learn_KKL.system\n",
    "from sklearn.model_selection import train_test_split\n",
    "from learn_KKL.system import RevDuffing\n",
    "from learn_KKL.learner import Learner\n",
    "from learn_KKL.utils import generate_mesh\n",
    "from learn_KKL.mesh_refinement2D import Cell\n",
    "import numpy as np\n",
    "import torch\n",
    "print('imports done')"
   ]
  },
  {
   "cell_type": "code",
   "execution_count": 40,
   "id": "e30e88f7",
   "metadata": {
    "pycharm": {
     "name": "#%%\n"
    }
   },
   "outputs": [
    {
     "data": {
      "text/plain": [
       "torch.Size([1000, 2])"
      ]
     },
     "execution_count": 40,
     "metadata": {},
     "output_type": "execute_result"
    }
   ],
   "source": [
    "test = generate_mesh(np.array([[-1,1],[-1,1]]),1000,'LHS')\n",
    "test.shape"
   ]
  },
  {
   "cell_type": "code",
   "execution_count": 30,
   "id": "8801a720",
   "metadata": {
    "pycharm": {
     "name": "#%%\n"
    }
   },
   "outputs": [],
   "source": [
    "# Get reversed duffing as example system\n",
    "system = RevDuffing()\n",
    "# Instantiate the observer\n",
    "observer = LuenbergerObserver(dim_x=2, dim_y=1, method='Supervised', wc=0.03,\n",
    "                              activation=torch.nn.SiLU())\n",
    "observer.set_dynamics(system)\n",
    "# Generate (x_i, z_i) data by running system backward, then system + observer forward in time\n",
    "data = observer.generate_data_svl(np.array([[-1, 1.], [-1., 1.]]), 1000,\n",
    "                                  method='LHS')\n",
    "data, val_data = train_test_split(data, test_size=0.3, shuffle=True)"
   ]
  },
  {
   "cell_type": "code",
   "execution_count": 31,
   "id": "1c614bcc",
   "metadata": {
    "pycharm": {
     "name": "#%%\n"
    }
   },
   "outputs": [
    {
     "data": {
      "text/plain": [
       "torch.Size([700, 5])"
      ]
     },
     "execution_count": 31,
     "metadata": {},
     "output_type": "execute_result"
    }
   ],
   "source": [
    "data.shape"
   ]
  },
  {
   "cell_type": "code",
   "execution_count": null,
   "id": "2c2d6f80",
   "metadata": {
    "pycharm": {
     "name": "#%%\n"
    }
   },
   "outputs": [],
   "source": []
  }
 ],
 "metadata": {
  "kernelspec": {
   "display_name": "Python 3 (ipykernel)",
   "language": "python",
   "name": "python3"
  },
  "language_info": {
   "codemirror_mode": {
    "name": "ipython",
    "version": 3
   },
   "file_extension": ".py",
   "mimetype": "text/x-python",
   "name": "python",
   "nbconvert_exporter": "python",
   "pygments_lexer": "ipython3",
   "version": "3.10.5"
  }
 },
 "nbformat": 4,
 "nbformat_minor": 5
}